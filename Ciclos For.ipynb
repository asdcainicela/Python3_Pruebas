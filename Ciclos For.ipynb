{
 "cells": [
  {
   "cell_type": "markdown",
   "id": "4c659994",
   "metadata": {},
   "source": [
    "# Ciclos For\n",
    "\n",
    "Los ciclos for permiten ejecutar una o varias instrucciones de forma iterativa, una vez por cada elemento en la colección."
   ]
  },
  {
   "cell_type": "code",
   "execution_count": null,
   "id": "96cd2a45",
   "metadata": {},
   "outputs": [],
   "source": [
    "## Ejem Ciclos For\n",
    "for contador in (1,2,3):\n",
    "    print(contador)"
   ]
  },
  {
   "cell_type": "code",
   "execution_count": null,
   "id": "5457b036",
   "metadata": {},
   "outputs": [],
   "source": [
    "## Ejem Ciclos For\n",
    "for producto in ('Manzana','Pera','Platano'):\n",
    "    print('El producto es ' + producto)"
   ]
  },
  {
   "cell_type": "code",
   "execution_count": null,
   "id": "182f4121",
   "metadata": {},
   "outputs": [],
   "source": []
  },
  {
   "cell_type": "code",
   "execution_count": null,
   "id": "8f7679d8",
   "metadata": {},
   "outputs": [],
   "source": []
  },
  {
   "cell_type": "markdown",
   "id": "a811d0bd",
   "metadata": {},
   "source": [
    "# Range\n",
    "\n",
    "La función range retorna una sucesión de números enteros\n"
   ]
  },
  {
   "cell_type": "code",
   "execution_count": null,
   "id": "e1b47efc",
   "metadata": {},
   "outputs": [],
   "source": [
    "range(10)"
   ]
  },
  {
   "cell_type": "code",
   "execution_count": null,
   "id": "3b506a9d",
   "metadata": {},
   "outputs": [],
   "source": [
    "list(range(10))\n"
   ]
  },
  {
   "cell_type": "code",
   "execution_count": null,
   "id": "cf5594bd",
   "metadata": {},
   "outputs": [],
   "source": [
    "range(1,10)"
   ]
  },
  {
   "cell_type": "code",
   "execution_count": null,
   "id": "f02942b6",
   "metadata": {},
   "outputs": [],
   "source": [
    "list(range(1,10))"
   ]
  },
  {
   "cell_type": "code",
   "execution_count": null,
   "id": "19fb39aa",
   "metadata": {},
   "outputs": [],
   "source": [
    "range(1,10,2)"
   ]
  },
  {
   "cell_type": "code",
   "execution_count": null,
   "id": "96846cc1",
   "metadata": {},
   "outputs": [],
   "source": [
    "list(range(1,10,2))"
   ]
  },
  {
   "cell_type": "code",
   "execution_count": null,
   "id": "6fa29204",
   "metadata": {},
   "outputs": [],
   "source": []
  },
  {
   "cell_type": "code",
   "execution_count": null,
   "id": "43bf6f2f",
   "metadata": {},
   "outputs": [],
   "source": []
  },
  {
   "cell_type": "code",
   "execution_count": null,
   "id": "0b552c04",
   "metadata": {},
   "outputs": [],
   "source": [
    "for contador in (1,2,3,4,5,6,7,8,9,10):\n",
    "    print(contador)"
   ]
  },
  {
   "cell_type": "code",
   "execution_count": null,
   "id": "0516a8af",
   "metadata": {},
   "outputs": [],
   "source": [
    "for contador in range(1,11):\n",
    "    print(contador)"
   ]
  },
  {
   "cell_type": "code",
   "execution_count": null,
   "id": "636e41db",
   "metadata": {},
   "outputs": [],
   "source": [
    "varx = 10\n",
    "for contador in range(1,100):\n",
    "    print('10 * ' + str(contador) + ' = ' + str(varx*contador))"
   ]
  },
  {
   "cell_type": "code",
   "execution_count": null,
   "id": "1fec2c22",
   "metadata": {},
   "outputs": [],
   "source": []
  },
  {
   "cell_type": "code",
   "execution_count": null,
   "id": "c225c377",
   "metadata": {},
   "outputs": [],
   "source": []
  },
  {
   "cell_type": "markdown",
   "id": "15e18461",
   "metadata": {},
   "source": [
    "# Ciclos for con iterables\n",
    "\n",
    "Python nos permite utilizar los ciclos for con iterables, estos pueden ser listas, diccionarios, tuplas y hasta cadenas de caracteres."
   ]
  },
  {
   "cell_type": "code",
   "execution_count": 43,
   "id": "1b8f0710",
   "metadata": {},
   "outputs": [],
   "source": [
    "varlist = ['Ejem', 'Lista', 1, 'Hola', 1.22]"
   ]
  },
  {
   "cell_type": "code",
   "execution_count": 44,
   "id": "5a093ea3",
   "metadata": {
    "scrolled": true
   },
   "outputs": [
    {
     "name": "stdout",
     "output_type": "stream",
     "text": [
      "Ejem\n",
      "Lista\n",
      "1\n",
      "Hola\n",
      "1.22\n"
     ]
    }
   ],
   "source": [
    "for elemento in varlist:\n",
    "    print(elemento)"
   ]
  },
  {
   "cell_type": "code",
   "execution_count": 45,
   "id": "3423724e",
   "metadata": {},
   "outputs": [],
   "source": [
    "vartupla = ('Ejem', 'Lista', 1, 'Hola', 1.22)"
   ]
  },
  {
   "cell_type": "code",
   "execution_count": 46,
   "id": "910af54b",
   "metadata": {},
   "outputs": [
    {
     "name": "stdout",
     "output_type": "stream",
     "text": [
      "Ejem\n",
      "Lista\n",
      "1\n",
      "Hola\n",
      "1.22\n"
     ]
    }
   ],
   "source": [
    "for elemento in vartupla:\n",
    "    print (elemento)"
   ]
  },
  {
   "cell_type": "code",
   "execution_count": 47,
   "id": "4edf6167",
   "metadata": {},
   "outputs": [],
   "source": [
    "vardic = {1: 'Jose', 2: 'Raul', 3: 'Uriel'}"
   ]
  },
  {
   "cell_type": "code",
   "execution_count": 48,
   "id": "2340b271",
   "metadata": {},
   "outputs": [
    {
     "name": "stdout",
     "output_type": "stream",
     "text": [
      "1\n",
      "2\n",
      "3\n"
     ]
    }
   ],
   "source": [
    "for elemento in vardic:\n",
    "    print(elemento)"
   ]
  },
  {
   "cell_type": "code",
   "execution_count": 49,
   "id": "7ef3da1b",
   "metadata": {},
   "outputs": [],
   "source": [
    "llaves = vardic.keys()"
   ]
  },
  {
   "cell_type": "code",
   "execution_count": 50,
   "id": "198e5dde",
   "metadata": {},
   "outputs": [],
   "source": [
    "valores = vardic.values()"
   ]
  },
  {
   "cell_type": "code",
   "execution_count": 51,
   "id": "0a97a5ed",
   "metadata": {},
   "outputs": [
    {
     "name": "stdout",
     "output_type": "stream",
     "text": [
      "1\n",
      "2\n",
      "3\n"
     ]
    }
   ],
   "source": [
    "for elemento in llaves:\n",
    "    print(elemento)"
   ]
  },
  {
   "cell_type": "code",
   "execution_count": 52,
   "id": "69094bf1",
   "metadata": {},
   "outputs": [
    {
     "name": "stdout",
     "output_type": "stream",
     "text": [
      "Jose\n",
      "Raul\n",
      "Uriel\n"
     ]
    }
   ],
   "source": [
    "for elemento in valores:\n",
    "    print(elemento)"
   ]
  },
  {
   "cell_type": "code",
   "execution_count": 53,
   "id": "668430d0",
   "metadata": {},
   "outputs": [
    {
     "name": "stdout",
     "output_type": "stream",
     "text": [
      "v\n",
      "a\n",
      "l\n",
      "o\n",
      "r\n",
      "e\n",
      "s\n"
     ]
    }
   ],
   "source": [
    "for elemento in 'valores':\n",
    "    print(elemento)"
   ]
  },
  {
   "cell_type": "code",
   "execution_count": 54,
   "id": "c81f1278",
   "metadata": {
    "scrolled": true
   },
   "outputs": [
    {
     "name": "stdout",
     "output_type": "stream",
     "text": [
      "v\n",
      "a\n",
      "l\n",
      "o\n",
      "r\n",
      "e\n",
      "s\n",
      " \n",
      "h\n",
      "o\n",
      "l\n",
      "a\n"
     ]
    }
   ],
   "source": [
    "for elemento in 'valores hola':\n",
    "    print(elemento)"
   ]
  },
  {
   "cell_type": "markdown",
   "id": "468663ed",
   "metadata": {},
   "source": []
  },
  {
   "cell_type": "code",
   "execution_count": null,
   "id": "febbc0f0",
   "metadata": {},
   "outputs": [],
   "source": []
  }
 ],
 "metadata": {
  "kernelspec": {
   "display_name": "Python 3 (ipykernel)",
   "language": "python",
   "name": "python3"
  },
  "language_info": {
   "codemirror_mode": {
    "name": "ipython",
    "version": 3
   },
   "file_extension": ".py",
   "mimetype": "text/x-python",
   "name": "python",
   "nbconvert_exporter": "python",
   "pygments_lexer": "ipython3",
   "version": "3.10.1"
  }
 },
 "nbformat": 4,
 "nbformat_minor": 5
}
