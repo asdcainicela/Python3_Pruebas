{
 "cells": [
  {
   "cell_type": "markdown",
   "id": "84303f67",
   "metadata": {},
   "source": [
    "# Trabajar con archivos de texto en Python\n",
    "\n",
    "Python nos permite manipular archivos de text, abrirlos, cerrarlos, leer y hasta escribir en archivos .txt\n",
    "\n"
   ]
  },
  {
   "cell_type": "code",
   "execution_count": 32,
   "id": "7d618934",
   "metadata": {},
   "outputs": [],
   "source": [
    "archivo = open('Archivo_Prueba.txt')"
   ]
  },
  {
   "cell_type": "code",
   "execution_count": 33,
   "id": "b836c13c",
   "metadata": {},
   "outputs": [],
   "source": [
    "lineas=archivo.readlines()"
   ]
  },
  {
   "cell_type": "code",
   "execution_count": 34,
   "id": "e5c14581",
   "metadata": {},
   "outputs": [
    {
     "name": "stdout",
     "output_type": "stream",
     "text": [
      "['Hola Mundo\\n', 'Esto es un archivo de ejemplo\\n']\n"
     ]
    }
   ],
   "source": [
    "print(lineas)"
   ]
  },
  {
   "cell_type": "code",
   "execution_count": 35,
   "id": "eaccbda9",
   "metadata": {},
   "outputs": [
    {
     "name": "stdout",
     "output_type": "stream",
     "text": [
      "Hola Mundo\n",
      "\n",
      "Esto es un archivo de ejemplo\n",
      "\n"
     ]
    }
   ],
   "source": [
    "for linea in lineas:\n",
    "        print(linea)"
   ]
  },
  {
   "cell_type": "code",
   "execution_count": 36,
   "id": "2dc2dc87",
   "metadata": {},
   "outputs": [],
   "source": [
    "archivo.close()"
   ]
  },
  {
   "cell_type": "markdown",
   "id": "5694820b",
   "metadata": {},
   "source": [
    "# Uso de With con archivos en Python\n",
    "\n",
    "Python nos permite trabajar de igual manera con la palabra reservada With, esto nos sirve para que nuestro código sea mucho más limpio, y nos permite manejar excepciones, de igual manera, nuestros archivos se cierran de manera automática\n"
   ]
  },
  {
   "cell_type": "code",
   "execution_count": 39,
   "id": "2cb19c4b",
   "metadata": {},
   "outputs": [
    {
     "name": "stdout",
     "output_type": "stream",
     "text": [
      "Hola Mundo\n",
      "\n",
      "Esto es un archivo de ejemplo\n",
      "\n"
     ]
    }
   ],
   "source": [
    " with open('Archivo_Prueba.txt') as archivo:\n",
    "        lineas = archivo.readlines()\n",
    "        \n",
    "        for linea in lineas:\n",
    "            print (linea)"
   ]
  },
  {
   "cell_type": "markdown",
   "id": "2e2aeec3",
   "metadata": {},
   "source": [
    "# Modos de apertura en Python\n",
    "\n",
    "Python cuenta con distintos modos de apertura de archivos, por default el modo de apertura es lectura, los modos son los siguientes:\n",
    "\n",
    "- 'r' - Se abre el archivo solo lectura, es el valor default\n",
    "- 'w' - Se abre el archivo si existe, y todos los datos anteriores son borrados, si no existe, crea uno nuevo, se abre o crea en modo escritura\n",
    "- 'a' - Se abre el archivo y se posiciona al final del archivo (append), manteniendo el contenido original, si no existe, crea uno nuevo, se abre o crea en modo escritura\n",
    "- 'r+' - Se abre el archivo para lectura y escritura comenzando a leer en el inicio del archivo\n",
    "- 'w+'- Se abre el archivo si existe, y todos los datos anteriores son eliminados, si no existe, crea uno nuevo, se abre o crea en modo lectura y escritura\n",
    "- 'a+' - Se abre el archivo si existe, y se posiciona al final del archivo (append), si no existe, crea uno nuevo, se abre o crea en modo lectura y escritura (append)"
   ]
  },
  {
   "cell_type": "code",
   "execution_count": 45,
   "id": "fd68801b",
   "metadata": {},
   "outputs": [],
   "source": [
    " with open('Archivo_Prueba.txt', 'w+') as archivo:\n",
    "        lineas = archivo.readlines()\n",
    "        \n",
    "        for linea in lineas:\n",
    "            print (linea)"
   ]
  },
  {
   "cell_type": "markdown",
   "id": "4fa3e16d",
   "metadata": {},
   "source": [
    "# Como modificar archivos reemplazando contenido\n",
    "\n",
    "En python podemos utilizar el modo de apertura 'w' o 'w+' para lograr reemplazar el contenido de un archivo"
   ]
  },
  {
   "cell_type": "code",
   "execution_count": 48,
   "id": "8cf40cd9",
   "metadata": {},
   "outputs": [],
   "source": [
    " with open('archivo_reemplazar.txt', 'w+') as archivo:\n",
    "        archivo.write('El archivo fue reemplazado de nuevo')"
   ]
  },
  {
   "cell_type": "markdown",
   "id": "6ccaf53d",
   "metadata": {},
   "source": [
    "# Como modificar archivos añadiendo contenido al final\n",
    "En python podemos utilizar el modo de apertura 'a' o 'a+' para añadir contenido al final de un archivo sin reemplazar el ya existente"
   ]
  },
  {
   "cell_type": "code",
   "execution_count": 51,
   "id": "db022c43",
   "metadata": {},
   "outputs": [],
   "source": [
    "with open('archivo_append.txt', 'a+') as archivo:\n",
    "        archivo.write('Añadimos este contenido con modo a+')"
   ]
  },
  {
   "cell_type": "code",
   "execution_count": null,
   "id": "e3321e30",
   "metadata": {},
   "outputs": [],
   "source": []
  },
  {
   "cell_type": "code",
   "execution_count": null,
   "id": "ad3c4505",
   "metadata": {},
   "outputs": [],
   "source": []
  },
  {
   "cell_type": "code",
   "execution_count": null,
   "id": "2d85a406",
   "metadata": {},
   "outputs": [],
   "source": []
  },
  {
   "cell_type": "code",
   "execution_count": null,
   "id": "61a1aeb3",
   "metadata": {},
   "outputs": [],
   "source": []
  },
  {
   "cell_type": "code",
   "execution_count": null,
   "id": "7c6afe88",
   "metadata": {},
   "outputs": [],
   "source": []
  },
  {
   "cell_type": "code",
   "execution_count": null,
   "id": "92093a56",
   "metadata": {},
   "outputs": [],
   "source": []
  }
 ],
 "metadata": {
  "kernelspec": {
   "display_name": "Python 3 (ipykernel)",
   "language": "python",
   "name": "python3"
  },
  "language_info": {
   "codemirror_mode": {
    "name": "ipython",
    "version": 3
   },
   "file_extension": ".py",
   "mimetype": "text/x-python",
   "name": "python",
   "nbconvert_exporter": "python",
   "pygments_lexer": "ipython3",
   "version": "3.10.1"
  }
 },
 "nbformat": 4,
 "nbformat_minor": 5
}
