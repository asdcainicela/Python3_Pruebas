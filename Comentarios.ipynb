{
 "cells": [
  {
   "cell_type": "markdown",
   "id": "b8074958",
   "metadata": {},
   "source": [
    "# Comentarios en Python\n",
    "\n",
    "Un comentario es una línea de código no ejecutable, sirve demasiado para dar pequeñas explicaciones de nuestro código y lo que hace una línea de código, así como información de los creadores.\n",
    "\n",
    "Se púede utilizar con '#' o con 3 comillas simples o dobles seguidas (''') ó (\"\"\")"
   ]
  },
  {
   "cell_type": "code",
   "execution_count": 14,
   "id": "d241bf19",
   "metadata": {},
   "outputs": [
    {
     "name": "stdout",
     "output_type": "stream",
     "text": [
      "Hola\n"
     ]
    }
   ],
   "source": [
    "'''\n",
    "Esto es un comment\n",
    "'''\n",
    "print('Hola')\n"
   ]
  },
  {
   "cell_type": "code",
   "execution_count": 15,
   "id": "c53bec64",
   "metadata": {
    "scrolled": true
   },
   "outputs": [
    {
     "name": "stdout",
     "output_type": "stream",
     "text": [
      "1\n"
     ]
    }
   ],
   "source": [
    "#### Imprime un número ####\n",
    "print(1)"
   ]
  },
  {
   "cell_type": "code",
   "execution_count": null,
   "id": "1f00ce73",
   "metadata": {},
   "outputs": [],
   "source": []
  }
 ],
 "metadata": {
  "kernelspec": {
   "display_name": "Python 3 (ipykernel)",
   "language": "python",
   "name": "python3"
  },
  "language_info": {
   "codemirror_mode": {
    "name": "ipython",
    "version": 3
   },
   "file_extension": ".py",
   "mimetype": "text/x-python",
   "name": "python",
   "nbconvert_exporter": "python",
   "pygments_lexer": "ipython3",
   "version": "3.10.1"
  }
 },
 "nbformat": 4,
 "nbformat_minor": 5
}
