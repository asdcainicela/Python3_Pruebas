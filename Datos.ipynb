{
 "cells": [
  {
   "cell_type": "markdown",
   "id": "26ffe900",
   "metadata": {},
   "source": [
    "# Datos en Python\n",
    "\n",
    "En Python todo valor que pueda ser asignado a una variable tiene asociado un tipo de dato.\n",
    "\n",
    "Los tipos de datos básicos en Python son:\n",
    " - Los númericos (Enteros y Flotantes)\n",
    " - Los booleanos (Verdadero y Falso)\n",
    " - Las cadenas de caracteres"
   ]
  },
  {
   "cell_type": "markdown",
   "id": "a05b997b",
   "metadata": {},
   "source": [
    "# Datos númericos\n",
    "\n",
    "# Números enteros\n",
    "\n",
    "Los números enteros (integer) -> int, son todos los números enteros, pueden ser positivos o negativos\n"
   ]
  },
  {
   "cell_type": "code",
   "execution_count": null,
   "id": "b5921947",
   "metadata": {},
   "outputs": [],
   "source": [
    "# Ejemplo int\n",
    "ejint = 1\n",
    "\n",
    "# Tambien int\n",
    "ejint2 = 3 + 1\n",
    "\n",
    "# De nuevo int\n",
    "ejint3 = -1"
   ]
  },
  {
   "cell_type": "code",
   "execution_count": null,
   "id": "d4b6e37b",
   "metadata": {},
   "outputs": [],
   "source": [
    "ejint"
   ]
  },
  {
   "cell_type": "code",
   "execution_count": null,
   "id": "6d48b242",
   "metadata": {},
   "outputs": [],
   "source": [
    "ejint2"
   ]
  },
  {
   "cell_type": "code",
   "execution_count": null,
   "id": "550f1cb4",
   "metadata": {},
   "outputs": [],
   "source": [
    "ejint3"
   ]
  },
  {
   "cell_type": "markdown",
   "id": "700866da",
   "metadata": {},
   "source": [
    "# Números flotantes\n",
    "\n",
    "Los números flotantes (float), son todos los números con decimales, los números reales, pueden ser positivos o negativos\n"
   ]
  },
  {
   "cell_type": "code",
   "execution_count": null,
   "id": "cfbe98eb",
   "metadata": {},
   "outputs": [],
   "source": [
    "# Ejemplo float\n",
    "ejfloat = 1.1\n",
    "\n",
    "# Ejemplo float tambien\n",
    "ejfloat2 = -2.4\n",
    "\n",
    "# Ejemplo float de nuevo\n",
    "ejfloat3 = 1/2"
   ]
  },
  {
   "cell_type": "code",
   "execution_count": null,
   "id": "6c622a1f",
   "metadata": {},
   "outputs": [],
   "source": [
    "ejfloat"
   ]
  },
  {
   "cell_type": "code",
   "execution_count": null,
   "id": "92ed55f6",
   "metadata": {},
   "outputs": [],
   "source": [
    "ejfloat2"
   ]
  },
  {
   "cell_type": "code",
   "execution_count": null,
   "id": "12727948",
   "metadata": {},
   "outputs": [],
   "source": [
    "ejfloat3"
   ]
  },
  {
   "cell_type": "code",
   "execution_count": null,
   "id": "79fea125",
   "metadata": {},
   "outputs": [],
   "source": [
    "1.0"
   ]
  },
  {
   "cell_type": "code",
   "execution_count": null,
   "id": "761e23e2",
   "metadata": {},
   "outputs": [],
   "source": []
  },
  {
   "cell_type": "code",
   "execution_count": null,
   "id": "7e84efe6",
   "metadata": {},
   "outputs": [],
   "source": []
  },
  {
   "cell_type": "markdown",
   "id": "0fd1461b",
   "metadata": {},
   "source": [
    "# Función type()\n",
    "\n",
    "type() es una función de Python que nos permite identificar el tipo de dato de nuestra variable.\n",
    "\n",
    "Uso: type(variable)"
   ]
  },
  {
   "cell_type": "code",
   "execution_count": null,
   "id": "00eaa09c",
   "metadata": {},
   "outputs": [],
   "source": [
    "varnum = 1"
   ]
  },
  {
   "cell_type": "code",
   "execution_count": null,
   "id": "2664788b",
   "metadata": {},
   "outputs": [],
   "source": [
    "type(varnum)"
   ]
  },
  {
   "cell_type": "code",
   "execution_count": null,
   "id": "81081ca1",
   "metadata": {},
   "outputs": [],
   "source": [
    "type(1.0)"
   ]
  },
  {
   "cell_type": "code",
   "execution_count": null,
   "id": "6f56f40e",
   "metadata": {},
   "outputs": [],
   "source": [
    "type(True)"
   ]
  },
  {
   "cell_type": "code",
   "execution_count": null,
   "id": "5a0f00b7",
   "metadata": {},
   "outputs": [],
   "source": [
    "type('Hola')"
   ]
  },
  {
   "cell_type": "code",
   "execution_count": null,
   "id": "dfe7f275",
   "metadata": {},
   "outputs": [],
   "source": []
  },
  {
   "cell_type": "code",
   "execution_count": null,
   "id": "9061c1c0",
   "metadata": {},
   "outputs": [],
   "source": []
  },
  {
   "cell_type": "markdown",
   "id": "0b579c03",
   "metadata": {},
   "source": [
    "# Valores Booleanos\n",
    "\n",
    "En python existe el tipo de dato booleano, que cuenta con dos valores:\n",
    "\n",
    " - True (Verdadero) es la representación de que una condición se cumple, o es cierta.\n",
    " - False (Falso) es la representación de que una condición NO se cumple."
   ]
  },
  {
   "cell_type": "code",
   "execution_count": null,
   "id": "e52f4f5b",
   "metadata": {},
   "outputs": [],
   "source": [
    "verd = True"
   ]
  },
  {
   "cell_type": "code",
   "execution_count": null,
   "id": "d1b0be8c",
   "metadata": {},
   "outputs": [],
   "source": [
    "verd"
   ]
  },
  {
   "cell_type": "code",
   "execution_count": null,
   "id": "6afeec62",
   "metadata": {},
   "outputs": [],
   "source": [
    "falso = False"
   ]
  },
  {
   "cell_type": "code",
   "execution_count": null,
   "id": "e9b46ed5",
   "metadata": {},
   "outputs": [],
   "source": [
    "falso"
   ]
  },
  {
   "cell_type": "markdown",
   "id": "3560b1f8",
   "metadata": {},
   "source": [
    "Todas las siguientes condiciones tienen por default un valor False:\n",
    "- False.\n",
    "- None.\n",
    "- Número cero en todos los tipos.\n",
    "- Cadena de caracteres vaciás.\n",
    "- Contenedores, incluyendo cadenas de caracteres, tuplas, listas, diccionarios y conjuntos mutables e inmutables."
   ]
  },
  {
   "cell_type": "code",
   "execution_count": null,
   "id": "7315306f",
   "metadata": {},
   "outputs": [],
   "source": [
    "False"
   ]
  },
  {
   "cell_type": "code",
   "execution_count": null,
   "id": "ec3e91cf",
   "metadata": {},
   "outputs": [],
   "source": [
    "0 == False"
   ]
  },
  {
   "cell_type": "code",
   "execution_count": null,
   "id": "e3cb6626",
   "metadata": {},
   "outputs": [],
   "source": [
    "bandera = True\n",
    "\n",
    "for contador in (1,2):\n",
    "    if contador == 3:\n",
    "        bandera = False\n",
    "        "
   ]
  },
  {
   "cell_type": "code",
   "execution_count": null,
   "id": "e4983559",
   "metadata": {},
   "outputs": [],
   "source": [
    "bandera"
   ]
  },
  {
   "cell_type": "code",
   "execution_count": null,
   "id": "d2d14fb6",
   "metadata": {},
   "outputs": [],
   "source": []
  },
  {
   "cell_type": "code",
   "execution_count": null,
   "id": "5cb11b6f",
   "metadata": {},
   "outputs": [],
   "source": []
  },
  {
   "cell_type": "markdown",
   "id": "7b0fca4e",
   "metadata": {},
   "source": [
    "# Cadenas de Texto en Python\n",
    "\n",
    "Las cadenas de texto son una secuencia de caracteres que representan un 'texto'\n",
    "\n",
    "En python se conocen como str (String), pueden representarse con comillas dobles (\") o comilla simple ('), se representan de la siguiente manera:\n",
    "- ejemstr = 'Hola Mundo'"
   ]
  },
  {
   "cell_type": "code",
   "execution_count": null,
   "id": "a992de4b",
   "metadata": {},
   "outputs": [],
   "source": [
    "ejemstr = 'Hola Mundo'"
   ]
  },
  {
   "cell_type": "code",
   "execution_count": null,
   "id": "fe5512b6",
   "metadata": {},
   "outputs": [],
   "source": [
    "ejemstr"
   ]
  },
  {
   "cell_type": "code",
   "execution_count": null,
   "id": "7aa2c2e5",
   "metadata": {},
   "outputs": [],
   "source": [
    "ejemstrDob = \"Hola Mundo\""
   ]
  },
  {
   "cell_type": "code",
   "execution_count": null,
   "id": "18917e9b",
   "metadata": {},
   "outputs": [],
   "source": [
    "ejemstrDob"
   ]
  },
  {
   "cell_type": "code",
   "execution_count": null,
   "id": "e420e5b2",
   "metadata": {},
   "outputs": [],
   "source": [
    "ejemstrBad = 'Hola Mundo\""
   ]
  },
  {
   "cell_type": "code",
   "execution_count": null,
   "id": "c6e6bf36",
   "metadata": {},
   "outputs": [],
   "source": [
    "s = \"Primer linea\\nSegunda linea\""
   ]
  },
  {
   "cell_type": "code",
   "execution_count": null,
   "id": "cf1cabc3",
   "metadata": {},
   "outputs": [],
   "source": [
    "print(s)"
   ]
  },
  {
   "cell_type": "code",
   "execution_count": null,
   "id": "032b6ec6",
   "metadata": {},
   "outputs": [],
   "source": []
  },
  {
   "cell_type": "code",
   "execution_count": null,
   "id": "f5cf2a12",
   "metadata": {},
   "outputs": [],
   "source": []
  },
  {
   "cell_type": "markdown",
   "id": "e51033b4",
   "metadata": {},
   "source": [
    "# Función len() en Python\n",
    "\n",
    "Python cuenta con una función para saber la longitud de una cadena de texto (str), una lista, una tupla, etc.\n",
    "\n",
    "La manera de usarla:\n",
    "\n",
    "- len(cadena)"
   ]
  },
  {
   "cell_type": "code",
   "execution_count": null,
   "id": "c54cb407",
   "metadata": {},
   "outputs": [],
   "source": [
    "ejemstr = 'Hola Mundo'"
   ]
  },
  {
   "cell_type": "code",
   "execution_count": null,
   "id": "b9c991ee",
   "metadata": {},
   "outputs": [],
   "source": [
    "len(ejemstr)"
   ]
  },
  {
   "cell_type": "code",
   "execution_count": null,
   "id": "ff81a82c",
   "metadata": {},
   "outputs": [],
   "source": [
    "ejemlst = [1,2,3,10]"
   ]
  },
  {
   "cell_type": "code",
   "execution_count": null,
   "id": "95d2ec31",
   "metadata": {},
   "outputs": [],
   "source": [
    "len(ejemlst)"
   ]
  },
  {
   "cell_type": "code",
   "execution_count": null,
   "id": "59af2fbd",
   "metadata": {},
   "outputs": [],
   "source": [
    "varlen = len(ejemstr)"
   ]
  },
  {
   "cell_type": "code",
   "execution_count": null,
   "id": "0900fddc",
   "metadata": {},
   "outputs": [],
   "source": [
    "varlen"
   ]
  },
  {
   "cell_type": "code",
   "execution_count": null,
   "id": "0c3e39c1",
   "metadata": {},
   "outputs": [],
   "source": []
  },
  {
   "cell_type": "code",
   "execution_count": null,
   "id": "84e91bd2",
   "metadata": {},
   "outputs": [],
   "source": []
  },
  {
   "cell_type": "markdown",
   "id": "deef3f24",
   "metadata": {},
   "source": [
    "# Indices para str en Python\n",
    "\n",
    "Python permite partir la cadena de caracteres a partir de un índice, un indice es la posición que ocupa ese caracter dentro de la cadena de texto, se puede ver como número positivo o número negativo.\n",
    "\n",
    "H o l a  \n",
    "\n",
    " 0 1 2 3 \n",
    "\n",
    " \n",
    "En Python podemos utilizar estos indices para saber que hay en cada una de las posiciones.\n",
    "\n",
    "\n",
    "Hay dos maneras de utilizar los indices:\n",
    "- str.index('parte a buscar')\n",
    "- str[index]"
   ]
  },
  {
   "cell_type": "code",
   "execution_count": null,
   "id": "e2b31e5f",
   "metadata": {},
   "outputs": [],
   "source": [
    "s = 'Curso básico de Python'\n",
    "print(s.index('Py'))"
   ]
  },
  {
   "cell_type": "code",
   "execution_count": null,
   "id": "f96a1767",
   "metadata": {},
   "outputs": [],
   "source": [
    "print(s.index('C'))"
   ]
  },
  {
   "cell_type": "code",
   "execution_count": null,
   "id": "6386e920",
   "metadata": {},
   "outputs": [],
   "source": [
    "s.index('py')"
   ]
  },
  {
   "cell_type": "code",
   "execution_count": null,
   "id": "c20ac9e0",
   "metadata": {},
   "outputs": [],
   "source": [
    "print(s[0])"
   ]
  },
  {
   "cell_type": "code",
   "execution_count": null,
   "id": "d8143d45",
   "metadata": {},
   "outputs": [],
   "source": [
    "print(s[33])"
   ]
  },
  {
   "cell_type": "code",
   "execution_count": null,
   "id": "827b79f7",
   "metadata": {},
   "outputs": [],
   "source": [
    "print(s[-1])"
   ]
  },
  {
   "cell_type": "code",
   "execution_count": null,
   "id": "145e2887",
   "metadata": {},
   "outputs": [],
   "source": [
    "print(s[-3])"
   ]
  },
  {
   "cell_type": "code",
   "execution_count": null,
   "id": "ba683e2f",
   "metadata": {},
   "outputs": [],
   "source": [
    "print(s[-33])"
   ]
  },
  {
   "cell_type": "code",
   "execution_count": null,
   "id": "7a9eb2d8",
   "metadata": {},
   "outputs": [],
   "source": []
  },
  {
   "cell_type": "code",
   "execution_count": null,
   "id": "80a37e7d",
   "metadata": {},
   "outputs": [],
   "source": []
  },
  {
   "cell_type": "code",
   "execution_count": null,
   "id": "b7cca3f9",
   "metadata": {},
   "outputs": [],
   "source": []
  },
  {
   "cell_type": "markdown",
   "id": "d186716b",
   "metadata": {},
   "source": [
    "# Rebanar str en Python\n",
    "\n",
    "Python nos permite seleccionar unicamente partes de una cadena de texto, para ello, utilizamos la siguiente notación:\n",
    "\n",
    "- [inicio : fin : cuantos pasos]"
   ]
  },
  {
   "cell_type": "code",
   "execution_count": null,
   "id": "05331553",
   "metadata": {},
   "outputs": [],
   "source": [
    "ejemstr = 'Ejemplo de Rebanar'"
   ]
  },
  {
   "cell_type": "code",
   "execution_count": null,
   "id": "ec84e5c6",
   "metadata": {},
   "outputs": [],
   "source": [
    "ejemstr[0:6:1]"
   ]
  },
  {
   "cell_type": "code",
   "execution_count": null,
   "id": "2f7d0f50",
   "metadata": {},
   "outputs": [],
   "source": [
    "ejemstr[0:6:2]"
   ]
  },
  {
   "cell_type": "code",
   "execution_count": null,
   "id": "817a16ec",
   "metadata": {},
   "outputs": [],
   "source": [
    "ejemstr[::1]"
   ]
  },
  {
   "cell_type": "code",
   "execution_count": null,
   "id": "86e9db4e",
   "metadata": {},
   "outputs": [],
   "source": [
    "ejemstr[2::2]"
   ]
  },
  {
   "cell_type": "code",
   "execution_count": null,
   "id": "2a8d88d4",
   "metadata": {},
   "outputs": [],
   "source": [
    "ejemstr[::-1]"
   ]
  },
  {
   "cell_type": "code",
   "execution_count": null,
   "id": "17a4038d",
   "metadata": {},
   "outputs": [],
   "source": []
  },
  {
   "cell_type": "code",
   "execution_count": null,
   "id": "c3c25f5e",
   "metadata": {},
   "outputs": [],
   "source": []
  },
  {
   "cell_type": "code",
   "execution_count": null,
   "id": "5ef20ba0",
   "metadata": {},
   "outputs": [],
   "source": []
  },
  {
   "cell_type": "code",
   "execution_count": null,
   "id": "b20998bf",
   "metadata": {},
   "outputs": [],
   "source": []
  },
  {
   "cell_type": "markdown",
   "id": "3f9eaf87",
   "metadata": {},
   "source": [
    "# Métodos de las cadenas de caracteres\n",
    "\n",
    "Python cuenta con distintos métodos o funciones que nos permiten obtener cierta info de una cadena de caracteres, los principales son:\n",
    "\n",
    "- upper() \n",
    "- lower()\n",
    "- capitalize()\n",
    "- title()\n",
    "- count()\n",
    "- find()\n",
    "- split()\n",
    "- join()\n",
    "- strip()\n",
    "- replace()"
   ]
  },
  {
   "cell_type": "code",
   "execution_count": 37,
   "id": "16463973",
   "metadata": {},
   "outputs": [],
   "source": [
    "cadena = 'hola mundo'"
   ]
  },
  {
   "cell_type": "code",
   "execution_count": 33,
   "id": "cc5c478e",
   "metadata": {},
   "outputs": [
    {
     "data": {
      "text/plain": [
       "'HOLA MUNDO'"
      ]
     },
     "execution_count": 33,
     "metadata": {},
     "output_type": "execute_result"
    }
   ],
   "source": [
    "cadena.upper()"
   ]
  },
  {
   "cell_type": "code",
   "execution_count": 36,
   "id": "f4ec8dd5",
   "metadata": {},
   "outputs": [
    {
     "data": {
      "text/plain": [
       "'hoola mundo'"
      ]
     },
     "execution_count": 36,
     "metadata": {},
     "output_type": "execute_result"
    }
   ],
   "source": [
    "cadena.lower()"
   ]
  },
  {
   "cell_type": "code",
   "execution_count": 38,
   "id": "9598294d",
   "metadata": {},
   "outputs": [
    {
     "data": {
      "text/plain": [
       "'Hola mundo'"
      ]
     },
     "execution_count": 38,
     "metadata": {},
     "output_type": "execute_result"
    }
   ],
   "source": [
    "cadena.capitalize()"
   ]
  },
  {
   "cell_type": "code",
   "execution_count": 39,
   "id": "146f12a0",
   "metadata": {},
   "outputs": [
    {
     "data": {
      "text/plain": [
       "'Hola Mundo'"
      ]
     },
     "execution_count": 39,
     "metadata": {},
     "output_type": "execute_result"
    }
   ],
   "source": [
    "cadena.title()"
   ]
  },
  {
   "cell_type": "code",
   "execution_count": 41,
   "id": "4741e81f",
   "metadata": {},
   "outputs": [
    {
     "data": {
      "text/plain": [
       "2"
      ]
     },
     "execution_count": 41,
     "metadata": {},
     "output_type": "execute_result"
    }
   ],
   "source": [
    "cadena.count('o')"
   ]
  },
  {
   "cell_type": "code",
   "execution_count": 42,
   "id": "77745a36",
   "metadata": {},
   "outputs": [
    {
     "data": {
      "text/plain": [
       "5"
      ]
     },
     "execution_count": 42,
     "metadata": {},
     "output_type": "execute_result"
    }
   ],
   "source": [
    "cadena.find('mun')"
   ]
  },
  {
   "cell_type": "code",
   "execution_count": 43,
   "id": "4a75f24b",
   "metadata": {},
   "outputs": [
    {
     "data": {
      "text/plain": [
       "['hola', 'mundo']"
      ]
     },
     "execution_count": 43,
     "metadata": {},
     "output_type": "execute_result"
    }
   ],
   "source": [
    "cadena.split()"
   ]
  },
  {
   "cell_type": "code",
   "execution_count": 44,
   "id": "d34ec831",
   "metadata": {},
   "outputs": [
    {
     "data": {
      "text/plain": [
       "['hola', 'mundo']"
      ]
     },
     "execution_count": 44,
     "metadata": {},
     "output_type": "execute_result"
    }
   ],
   "source": [
    "'hola,mundo'.split(',')"
   ]
  },
  {
   "cell_type": "code",
   "execution_count": 45,
   "id": "02601d72",
   "metadata": {},
   "outputs": [
    {
     "data": {
      "text/plain": [
       "'h,o,l,a, ,m,u,n,d,o'"
      ]
     },
     "execution_count": 45,
     "metadata": {},
     "output_type": "execute_result"
    }
   ],
   "source": [
    "','.join(cadena)"
   ]
  },
  {
   "cell_type": "code",
   "execution_count": 46,
   "id": "43a2c15f",
   "metadata": {},
   "outputs": [
    {
     "data": {
      "text/plain": [
       "'Hola Mundo'"
      ]
     },
     "execution_count": 46,
     "metadata": {},
     "output_type": "execute_result"
    }
   ],
   "source": [
    "'    Hola Mundo '.strip()"
   ]
  },
  {
   "cell_type": "code",
   "execution_count": 47,
   "id": "c5f783c1",
   "metadata": {},
   "outputs": [
    {
     "data": {
      "text/plain": [
       "'Hola mundo'"
      ]
     },
     "execution_count": 47,
     "metadata": {},
     "output_type": "execute_result"
    }
   ],
   "source": [
    "'H0la mund0'.replace('0', 'o')"
   ]
  },
  {
   "cell_type": "code",
   "execution_count": null,
   "id": "9d8de0a4",
   "metadata": {},
   "outputs": [],
   "source": []
  },
  {
   "cell_type": "code",
   "execution_count": null,
   "id": "0699b6f2",
   "metadata": {},
   "outputs": [],
   "source": []
  },
  {
   "cell_type": "markdown",
   "id": "c0774c5f",
   "metadata": {},
   "source": []
  }
 ],
 "metadata": {
  "kernelspec": {
   "display_name": "Python 3 (ipykernel)",
   "language": "python",
   "name": "python3"
  },
  "language_info": {
   "codemirror_mode": {
    "name": "ipython",
    "version": 3
   },
   "file_extension": ".py",
   "mimetype": "text/x-python",
   "name": "python",
   "nbconvert_exporter": "python",
   "pygments_lexer": "ipython3",
   "version": "3.10.1"
  }
 },
 "nbformat": 4,
 "nbformat_minor": 5
}
