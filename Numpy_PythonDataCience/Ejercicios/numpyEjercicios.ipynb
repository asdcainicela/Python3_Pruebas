{
  "cells": [
    {
      "cell_type": "code",
      "execution_count": 1,
      "metadata": {
        "id": "ZyZ273xU_1_H"
      },
      "outputs": [],
      "source": [
        "import numpy as np"
      ]
    },
    {
      "cell_type": "markdown",
      "metadata": {
        "id": "R4Af36SWAJDf"
      },
      "source": [
        "Crea un array con elementos del 20 al 60 inclusives"
      ]
    },
    {
      "cell_type": "code",
      "execution_count": 2,
      "metadata": {
        "colab": {
          "base_uri": "https://localhost:8080/"
        },
        "id": "gxL8R7xc_9bS",
        "outputId": "8784f91e-b3d9-4a87-fd67-e824f4515870"
      },
      "outputs": [
        {
          "data": {
            "text/plain": [
              "array([20, 21, 22, 23, 24, 25, 26, 27, 28, 29, 30, 31, 32, 33, 34, 35, 36,\n",
              "       37, 38, 39, 40, 41, 42, 43, 44, 45, 46, 47, 48, 49, 50, 51, 52, 53,\n",
              "       54, 55, 56, 57, 58, 59, 60])"
            ]
          },
          "execution_count": 2,
          "metadata": {},
          "output_type": "execute_result"
        }
      ],
      "source": [
        "array = np.arange(20,61,1)\n",
        "array"
      ]
    },
    {
      "cell_type": "markdown",
      "metadata": {
        "id": "VvUwIClSAm9V"
      },
      "source": [
        "Crea un array de una dimension con 15 elementos de unos, luego cambiar el tercer elemento a 99"
      ]
    },
    {
      "cell_type": "code",
      "execution_count": 3,
      "metadata": {
        "colab": {
          "base_uri": "https://localhost:8080/"
        },
        "id": "Lf80YYwZADEC",
        "outputId": "bb9cae3b-4156-4e36-da66-c5040233ec2a"
      },
      "outputs": [
        {
          "data": {
            "text/plain": [
              "array([[1., 1., 1., 1., 1., 1., 1., 1., 1., 1., 1., 1., 1., 1., 1.]])"
            ]
          },
          "execution_count": 3,
          "metadata": {},
          "output_type": "execute_result"
        }
      ],
      "source": [
        "array = np.ones((1,15))\n",
        "array"
      ]
    },
    {
      "cell_type": "code",
      "execution_count": 4,
      "metadata": {
        "colab": {
          "base_uri": "https://localhost:8080/"
        },
        "id": "6AaDJwHJAx5c",
        "outputId": "bbf26cef-12a9-4a31-ae8f-66377c5a6f89"
      },
      "outputs": [
        {
          "data": {
            "text/plain": [
              "array([[ 1.,  1., 99.,  1.,  1.,  1.,  1.,  1.,  1.,  1.,  1.,  1.,  1.,\n",
              "         1.,  1.]])"
            ]
          },
          "execution_count": 4,
          "metadata": {},
          "output_type": "execute_result"
        }
      ],
      "source": [
        "array[0,2]=99\n",
        "array"
      ]
    },
    {
      "cell_type": "markdown",
      "metadata": {
        "id": "crWOWAlZBNWV"
      },
      "source": [
        "Crea una matriz de 6 * 6 de ceros"
      ]
    },
    {
      "cell_type": "code",
      "execution_count": 5,
      "metadata": {
        "colab": {
          "base_uri": "https://localhost:8080/"
        },
        "id": "oqo_S22zA8lC",
        "outputId": "0a551062-0515-477d-8651-746a750ed3c2"
      },
      "outputs": [
        {
          "data": {
            "text/plain": [
              "array([[0., 0., 0., 0., 0., 0.],\n",
              "       [0., 0., 0., 0., 0., 0.],\n",
              "       [0., 0., 0., 0., 0., 0.],\n",
              "       [0., 0., 0., 0., 0., 0.],\n",
              "       [0., 0., 0., 0., 0., 0.],\n",
              "       [0., 0., 0., 0., 0., 0.]])"
            ]
          },
          "execution_count": 5,
          "metadata": {},
          "output_type": "execute_result"
        }
      ],
      "source": [
        "array = np.zeros((6,6))\n",
        "array"
      ]
    },
    {
      "cell_type": "markdown",
      "metadata": {
        "id": "qzyfiMi2BcTE"
      },
      "source": [
        "Convertir el tipo de datos anterior a entero\n",
        "\n",
        "\n",
        "\n"
      ]
    },
    {
      "cell_type": "code",
      "execution_count": 6,
      "metadata": {
        "colab": {
          "base_uri": "https://localhost:8080/",
          "height": 36
        },
        "id": "G5fQq0FvV7kF",
        "outputId": "0cbbf5bf-1f96-48e5-e9ec-b9d3434acf4e"
      },
      "outputs": [
        {
          "data": {
            "text/plain": [
              "'float64'"
            ]
          },
          "execution_count": 6,
          "metadata": {},
          "output_type": "execute_result"
        }
      ],
      "source": [
        "array.dtype.name"
      ]
    },
    {
      "cell_type": "code",
      "execution_count": 7,
      "metadata": {
        "colab": {
          "base_uri": "https://localhost:8080/",
          "height": 36
        },
        "id": "s3A7NKnrBVja",
        "outputId": "e5df5c5a-142a-4890-c8f3-52e896eed53c"
      },
      "outputs": [
        {
          "data": {
            "text/plain": [
              "'int64'"
            ]
          },
          "execution_count": 7,
          "metadata": {},
          "output_type": "execute_result"
        }
      ],
      "source": [
        "array.dtype=\"int64\"\n",
        "array.dtype.name"
      ]
    },
    {
      "cell_type": "code",
      "execution_count": 8,
      "metadata": {
        "colab": {
          "base_uri": "https://localhost:8080/"
        },
        "id": "1cNzyr74Biuj",
        "outputId": "cfc0260b-fce4-4940-9564-f0490c717855"
      },
      "outputs": [
        {
          "data": {
            "text/plain": [
              "array([[0, 0, 0, 0, 0, 0],\n",
              "       [0, 0, 0, 0, 0, 0],\n",
              "       [0, 0, 0, 0, 0, 0],\n",
              "       [0, 0, 0, 0, 0, 0],\n",
              "       [0, 0, 0, 0, 0, 0],\n",
              "       [0, 0, 0, 0, 0, 0]])"
            ]
          },
          "execution_count": 8,
          "metadata": {},
          "output_type": "execute_result"
        }
      ],
      "source": [
        "array"
      ]
    },
    {
      "cell_type": "markdown",
      "metadata": {
        "id": "sSVTJyodCBRd"
      },
      "source": [
        "Crea un array de numeros enteros del 1 al 20 inclusives, con 4 filas y 3 columnas, muestra el valor de la segunda fila y primera columna"
      ]
    },
    {
      "cell_type": "code",
      "execution_count": 9,
      "metadata": {
        "colab": {
          "base_uri": "https://localhost:8080/"
        },
        "id": "pgNBJO9NBx73",
        "outputId": "c9c5a4fc-46f9-4499-9cc7-2c7a771ec947"
      },
      "outputs": [
        {
          "data": {
            "text/plain": [
              "array([ 7,  7, 14, 10, 11, 10,  4, 12,  3, 10, 17, 20], dtype=int32)"
            ]
          },
          "execution_count": 9,
          "metadata": {},
          "output_type": "execute_result"
        }
      ],
      "source": [
        "array = np.random.randint(1,21,size=12)\n",
        "array"
      ]
    },
    {
      "cell_type": "code",
      "execution_count": 10,
      "metadata": {
        "colab": {
          "base_uri": "https://localhost:8080/"
        },
        "id": "J-9v1NkECP5C",
        "outputId": "f2fb1091-2e56-4764-bf74-7c093d88b591"
      },
      "outputs": [
        {
          "data": {
            "text/plain": [
              "array([[ 7,  7, 14],\n",
              "       [10, 11, 10],\n",
              "       [ 4, 12,  3],\n",
              "       [10, 17, 20]], dtype=int32)"
            ]
          },
          "execution_count": 10,
          "metadata": {},
          "output_type": "execute_result"
        }
      ],
      "source": [
        "array = array.reshape(4,3)\n",
        "array"
      ]
    },
    {
      "cell_type": "code",
      "execution_count": 11,
      "metadata": {
        "colab": {
          "base_uri": "https://localhost:8080/"
        },
        "id": "Z7HA47NjDdPy",
        "outputId": "6df85c5b-de03-4ec9-fd3a-836e79af7cf8"
      },
      "outputs": [
        {
          "data": {
            "text/plain": [
              "np.int32(10)"
            ]
          },
          "execution_count": 11,
          "metadata": {},
          "output_type": "execute_result"
        }
      ],
      "source": [
        "array[1,0]"
      ]
    },
    {
      "cell_type": "markdown",
      "metadata": {
        "id": "_HJnuOGzEPGZ"
      },
      "source": [
        "Crea un array con valores del rango 50 a 99 inclusives"
      ]
    },
    {
      "cell_type": "code",
      "execution_count": 12,
      "metadata": {
        "colab": {
          "base_uri": "https://localhost:8080/"
        },
        "id": "rdt7edsFD_3U",
        "outputId": "dd9b60d3-8161-49e7-9dc5-0cb571fd6042"
      },
      "outputs": [
        {
          "data": {
            "text/plain": [
              "array([50, 51, 52, 53, 54, 55, 56, 57, 58, 59, 60, 61, 62, 63, 64, 65, 66,\n",
              "       67, 68, 69, 70, 71, 72, 73, 74, 75, 76, 77, 78, 79, 80, 81, 82, 83,\n",
              "       84, 85, 86, 87, 88, 89, 90, 91, 92, 93, 94, 95, 96, 97, 98, 99])"
            ]
          },
          "execution_count": 12,
          "metadata": {},
          "output_type": "execute_result"
        }
      ],
      "source": [
        "array=np.arange(50,100)\n",
        "array"
      ]
    },
    {
      "cell_type": "markdown",
      "metadata": {
        "id": "jr3_I45GFBjR"
      },
      "source": [
        "Invierte el array anterior"
      ]
    },
    {
      "cell_type": "code",
      "execution_count": 13,
      "metadata": {
        "colab": {
          "base_uri": "https://localhost:8080/"
        },
        "id": "VjQUcYKEE_M6",
        "outputId": "bef3d5e0-4e86-4eac-a1c2-5e9dc16aca06"
      },
      "outputs": [
        {
          "data": {
            "text/plain": [
              "array([99, 98, 97, 96, 95, 94, 93, 92, 91, 90, 89, 88, 87, 86, 85, 84, 83,\n",
              "       82, 81, 80, 79, 78, 77, 76, 75, 74, 73, 72, 71, 70, 69, 68, 67, 66,\n",
              "       65, 64, 63, 62, 61, 60, 59, 58, 57, 56, 55, 54, 53, 52, 51, 50])"
            ]
          },
          "execution_count": 13,
          "metadata": {},
          "output_type": "execute_result"
        }
      ],
      "source": [
        "array[::-1]"
      ]
    },
    {
      "cell_type": "markdown",
      "metadata": {
        "id": "dpMs-3iFGFYi"
      },
      "source": [
        "Crea una matriz 4 * 4 con valores de 1 a 16"
      ]
    },
    {
      "cell_type": "code",
      "execution_count": 14,
      "metadata": {
        "colab": {
          "base_uri": "https://localhost:8080/"
        },
        "id": "Hr9-D--vFF7q",
        "outputId": "c3b5446d-288d-41fe-d7eb-b43340dd54b3"
      },
      "outputs": [
        {
          "data": {
            "text/plain": [
              "array([[ 1,  2,  3,  4],\n",
              "       [ 5,  6,  7,  8],\n",
              "       [ 9, 10, 11, 12],\n",
              "       [13, 14, 15, 16]])"
            ]
          },
          "execution_count": 14,
          "metadata": {},
          "output_type": "execute_result"
        }
      ],
      "source": [
        "array = np.arange(1,17).reshape(4,4)\n",
        "array"
      ]
    },
    {
      "cell_type": "markdown",
      "metadata": {
        "id": "EfErapyBGy6_"
      },
      "source": [
        "Encontrar los valores mayores a 6 del array anterior"
      ]
    },
    {
      "cell_type": "code",
      "execution_count": 15,
      "metadata": {
        "colab": {
          "base_uri": "https://localhost:8080/"
        },
        "id": "4G4aRYSXGWVt",
        "outputId": "f9f5e1c2-2096-4a71-8a54-832e2512fc5c"
      },
      "outputs": [
        {
          "data": {
            "text/plain": [
              "array([ 7,  8,  9, 10, 11, 12, 13, 14, 15, 16])"
            ]
          },
          "execution_count": 15,
          "metadata": {},
          "output_type": "execute_result"
        }
      ],
      "source": [
        "array_sup_6 = array[array>6]\n",
        "array_sup_6"
      ]
    },
    {
      "cell_type": "markdown",
      "metadata": {
        "id": "_mOsPTS3HE7h"
      },
      "source": [
        "Crear una matriz identidad de 5 * 5"
      ]
    },
    {
      "cell_type": "code",
      "execution_count": 16,
      "metadata": {
        "colab": {
          "base_uri": "https://localhost:8080/"
        },
        "id": "V8KZJuDWG9sT",
        "outputId": "40e97c8a-60e9-450a-fce4-e9bca53f3523"
      },
      "outputs": [
        {
          "data": {
            "text/plain": [
              "array([[1., 0., 0., 0., 0.],\n",
              "       [0., 1., 0., 0., 0.],\n",
              "       [0., 0., 1., 0., 0.],\n",
              "       [0., 0., 0., 1., 0.],\n",
              "       [0., 0., 0., 0., 1.]])"
            ]
          },
          "execution_count": 16,
          "metadata": {},
          "output_type": "execute_result"
        }
      ],
      "source": [
        "array = np.identity(5)\n",
        "array"
      ]
    },
    {
      "cell_type": "markdown",
      "metadata": {
        "id": "kaMthpkTHQ-a"
      },
      "source": [
        "Crear matriz con valores al azar entre 0 y 1 de forma 4x4x4"
      ]
    },
    {
      "cell_type": "code",
      "execution_count": 17,
      "metadata": {
        "colab": {
          "base_uri": "https://localhost:8080/"
        },
        "id": "VwriE8_NHMJT",
        "outputId": "2b564e9a-949b-4af7-ed7b-8e891c6fb848"
      },
      "outputs": [
        {
          "data": {
            "text/plain": [
              "array([[[0.50125571, 0.77511746, 0.56830517, 0.40275884],\n",
              "        [0.44583911, 0.13075485, 0.01458722, 0.45102543],\n",
              "        [0.26383385, 0.82829687, 0.62245806, 0.92114047],\n",
              "        [0.14890305, 0.58108667, 0.98868672, 0.44142866]],\n",
              "\n",
              "       [[0.24823565, 0.2583278 , 0.62666426, 0.48024455],\n",
              "        [0.12596699, 0.00296409, 0.85937826, 0.67730759],\n",
              "        [0.75671491, 0.6735798 , 0.51963057, 0.20462825],\n",
              "        [0.11250016, 0.9663947 , 0.67672259, 0.57404672]],\n",
              "\n",
              "       [[0.83053102, 0.64703562, 0.85495982, 0.2147047 ],\n",
              "        [0.52430029, 0.52708472, 0.36902995, 0.64826413],\n",
              "        [0.9691936 , 0.16398232, 0.47087712, 0.7430103 ],\n",
              "        [0.96751262, 0.94598957, 0.54549391, 0.14297371]],\n",
              "\n",
              "       [[0.9389996 , 0.49322177, 0.4913885 , 0.2868469 ],\n",
              "        [0.83426698, 0.79662371, 0.79048767, 0.88640066],\n",
              "        [0.13879713, 0.24694868, 0.72836698, 0.52111302],\n",
              "        [0.11126813, 0.84457042, 0.3571695 , 0.37108406]]])"
            ]
          },
          "execution_count": 17,
          "metadata": {},
          "output_type": "execute_result"
        }
      ],
      "source": [
        "array = np.random.random((4,4,4))\n",
        "array"
      ]
    },
    {
      "cell_type": "markdown",
      "metadata": {
        "id": "UEcwthH7HoRK"
      },
      "source": [
        "Indicar valor minimo y maximo del array anterior y su posicion\n"
      ]
    },
    {
      "cell_type": "code",
      "execution_count": 18,
      "metadata": {
        "colab": {
          "base_uri": "https://localhost:8080/"
        },
        "id": "KCEbh4srHcJT",
        "outputId": "c4e4be94-eaa0-4851-f726-140077203a77"
      },
      "outputs": [
        {
          "data": {
            "text/plain": [
              "np.float64(0.002964085612153333)"
            ]
          },
          "execution_count": 18,
          "metadata": {},
          "output_type": "execute_result"
        }
      ],
      "source": [
        "array.min()"
      ]
    },
    {
      "cell_type": "code",
      "execution_count": 19,
      "metadata": {
        "colab": {
          "base_uri": "https://localhost:8080/"
        },
        "id": "6fR6E2xmIv4j",
        "outputId": "a59613f0-438d-4686-a789-c4985c799d3f"
      },
      "outputs": [
        {
          "data": {
            "text/plain": [
              "np.int64(21)"
            ]
          },
          "execution_count": 19,
          "metadata": {},
          "output_type": "execute_result"
        }
      ],
      "source": [
        "array.argmin()"
      ]
    },
    {
      "cell_type": "code",
      "execution_count": 20,
      "metadata": {
        "colab": {
          "base_uri": "https://localhost:8080/"
        },
        "id": "Uqf4PSh6HuwD",
        "outputId": "89d50be5-92ed-436d-fe20-79509ec8e217"
      },
      "outputs": [
        {
          "data": {
            "text/plain": [
              "np.float64(0.9886867186459465)"
            ]
          },
          "execution_count": 20,
          "metadata": {},
          "output_type": "execute_result"
        }
      ],
      "source": [
        "array.max()"
      ]
    },
    {
      "cell_type": "code",
      "execution_count": 21,
      "metadata": {
        "colab": {
          "base_uri": "https://localhost:8080/"
        },
        "id": "O8gkAHBsIuSK",
        "outputId": "c9747f05-d68f-4304-958c-c8a935ac526b"
      },
      "outputs": [
        {
          "data": {
            "text/plain": [
              "np.int64(14)"
            ]
          },
          "execution_count": 21,
          "metadata": {},
          "output_type": "execute_result"
        }
      ],
      "source": [
        "array.argmax()"
      ]
    },
    {
      "cell_type": "markdown",
      "metadata": {
        "id": "ZD1Cn2ltH8SI"
      },
      "source": [
        "Crear 2 arrays al azar y verificar si son iguales"
      ]
    },
    {
      "cell_type": "code",
      "execution_count": 22,
      "metadata": {
        "colab": {
          "base_uri": "https://localhost:8080/"
        },
        "id": "vTvPI3nCHwMb",
        "outputId": "b84001ad-c641-49fc-a910-da96538b6f79"
      },
      "outputs": [
        {
          "data": {
            "text/plain": [
              "array([[0.25115134, 0.87881346, 0.35878896, 0.70915787, 0.28337425],\n",
              "       [0.99631287, 0.0431614 , 0.75517756, 0.3201813 , 0.68393273],\n",
              "       [0.6603961 , 0.45728438, 0.31255733, 0.39210108, 0.2065281 ],\n",
              "       [0.82399602, 0.54326308, 0.53090704, 0.14128877, 0.56175075],\n",
              "       [0.37244941, 0.25533817, 0.8767043 , 0.66638463, 0.71308245]])"
            ]
          },
          "execution_count": 22,
          "metadata": {},
          "output_type": "execute_result"
        }
      ],
      "source": [
        "array_1 = np.random.random((5,5))\n",
        "array_1"
      ]
    },
    {
      "cell_type": "code",
      "execution_count": 23,
      "metadata": {
        "colab": {
          "base_uri": "https://localhost:8080/"
        },
        "id": "UIDugy_eIH_p",
        "outputId": "d10d657f-cb07-4332-a0cf-262bef5f5231"
      },
      "outputs": [
        {
          "data": {
            "text/plain": [
              "array([[0.01825154, 0.6881296 , 0.19589701, 0.58892569, 0.97351639],\n",
              "       [0.24463183, 0.95440369, 0.90828175, 0.27649801, 0.6842659 ],\n",
              "       [0.01233237, 0.32496628, 0.58334339, 0.23594468, 0.11829838],\n",
              "       [0.55413089, 0.33079593, 0.77888168, 0.11325551, 0.82448922],\n",
              "       [0.26536104, 0.94429016, 0.0117463 , 0.35950454, 0.78628828]])"
            ]
          },
          "execution_count": 23,
          "metadata": {},
          "output_type": "execute_result"
        }
      ],
      "source": [
        "array_2 = np.random.random((5,5))\n",
        "array_2"
      ]
    },
    {
      "cell_type": "code",
      "execution_count": 24,
      "metadata": {
        "colab": {
          "base_uri": "https://localhost:8080/"
        },
        "id": "EPMQqOhFINFM",
        "outputId": "1db2acd4-530e-4bf7-9b1a-095e22c76983"
      },
      "outputs": [
        {
          "data": {
            "text/plain": [
              "array([[False, False, False, False, False],\n",
              "       [False, False, False, False, False],\n",
              "       [False, False, False, False, False],\n",
              "       [False, False, False, False, False],\n",
              "       [False, False, False, False, False]])"
            ]
          },
          "execution_count": 24,
          "metadata": {},
          "output_type": "execute_result"
        }
      ],
      "source": [
        "array_1==array_2"
      ]
    },
    {
      "cell_type": "code",
      "execution_count": 25,
      "metadata": {
        "colab": {
          "base_uri": "https://localhost:8080/"
        },
        "id": "PxE0t9CeIQtS",
        "outputId": "44b683e6-7474-4494-ea74-5311b44d2297"
      },
      "outputs": [
        {
          "data": {
            "text/plain": [
              "False"
            ]
          },
          "execution_count": 25,
          "metadata": {},
          "output_type": "execute_result"
        }
      ],
      "source": [
        "np.array_equal(array_1,array_2)"
      ]
    },
    {
      "cell_type": "markdown",
      "metadata": {
        "id": "_UV8KBYFJJk7"
      },
      "source": [
        "De uno de los arrays anteriores obten la media y muestra los valores que estan por encima de la media"
      ]
    },
    {
      "cell_type": "code",
      "execution_count": 26,
      "metadata": {
        "colab": {
          "base_uri": "https://localhost:8080/"
        },
        "id": "aGVuiESFIXRt",
        "outputId": "5ba741be-baf2-4d7f-97a3-7b830e9273c1"
      },
      "outputs": [
        {
          "data": {
            "text/plain": [
              "np.float64(0.5117633347845633)"
            ]
          },
          "execution_count": 26,
          "metadata": {},
          "output_type": "execute_result"
        }
      ],
      "source": [
        "media = array_1.mean()\n",
        "media"
      ]
    },
    {
      "cell_type": "code",
      "execution_count": 27,
      "metadata": {
        "colab": {
          "base_uri": "https://localhost:8080/"
        },
        "id": "hWdJj4MsJZxi",
        "outputId": "7044d685-f98b-4285-94b4-1e2a39b2a237"
      },
      "outputs": [
        {
          "data": {
            "text/plain": [
              "array([0.87881346, 0.70915787, 0.99631287, 0.75517756, 0.68393273,\n",
              "       0.6603961 , 0.82399602, 0.54326308, 0.53090704, 0.56175075,\n",
              "       0.8767043 , 0.66638463, 0.71308245])"
            ]
          },
          "execution_count": 27,
          "metadata": {},
          "output_type": "execute_result"
        }
      ],
      "source": [
        "array_1[array_1>media]\n"
      ]
    },
    {
      "cell_type": "code",
      "execution_count": 28,
      "metadata": {
        "colab": {
          "base_uri": "https://localhost:8080/"
        },
        "id": "6VjGsbI9Jafz",
        "outputId": "a1a6fbf0-b0b7-47c0-9290-c63298425402"
      },
      "outputs": [
        {
          "data": {
            "text/plain": [
              "array([[0.25115134, 0.87881346, 0.35878896, 0.70915787, 0.28337425],\n",
              "       [0.99631287, 0.0431614 , 0.75517756, 0.3201813 , 0.68393273],\n",
              "       [0.6603961 , 0.45728438, 0.31255733, 0.39210108, 0.2065281 ],\n",
              "       [0.82399602, 0.54326308, 0.53090704, 0.14128877, 0.56175075],\n",
              "       [0.37244941, 0.25533817, 0.8767043 , 0.66638463, 0.71308245]])"
            ]
          },
          "execution_count": 28,
          "metadata": {},
          "output_type": "execute_result"
        }
      ],
      "source": [
        "array_1"
      ]
    }
  ],
  "metadata": {
    "colab": {
      "collapsed_sections": [],
      "provenance": []
    },
    "kernelspec": {
      "display_name": "Python 3",
      "name": "python3"
    },
    "language_info": {
      "codemirror_mode": {
        "name": "ipython",
        "version": 3
      },
      "file_extension": ".py",
      "mimetype": "text/x-python",
      "name": "python",
      "nbconvert_exporter": "python",
      "pygments_lexer": "ipython3",
      "version": "3.13.3"
    }
  },
  "nbformat": 4,
  "nbformat_minor": 0
}
