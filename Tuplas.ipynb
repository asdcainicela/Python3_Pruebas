{
 "cells": [
  {
   "cell_type": "markdown",
   "id": "fdb87301",
   "metadata": {},
   "source": [
    "# Tuplas\n",
    "\n",
    "Las tuplas en python nos permiten almacenar objetos de diversos tipos de datos, muy parecidos a las listas con la diferencia que NO son mutables.\n",
    "\n",
    "- tupla = (elementos)"
   ]
  },
  {
   "cell_type": "code",
   "execution_count": 29,
   "id": "72935fa5",
   "metadata": {},
   "outputs": [],
   "source": [
    "vartupla = ('Hola', 2, 3.16, 'Adios')"
   ]
  },
  {
   "cell_type": "code",
   "execution_count": 30,
   "id": "58783e82",
   "metadata": {},
   "outputs": [
    {
     "name": "stdout",
     "output_type": "stream",
     "text": [
      "('Hola', 2, 3.16, 'Adios')\n"
     ]
    }
   ],
   "source": [
    "print(vartupla)"
   ]
  },
  {
   "cell_type": "code",
   "execution_count": 31,
   "id": "e4502f5f",
   "metadata": {},
   "outputs": [
    {
     "ename": "AttributeError",
     "evalue": "'tuple' object has no attribute 'append'",
     "output_type": "error",
     "traceback": [
      "\u001b[1;31m---------------------------------------------------------------------------\u001b[0m",
      "\u001b[1;31mAttributeError\u001b[0m                            Traceback (most recent call last)",
      "\u001b[1;32m~\\AppData\\Local\\Temp/ipykernel_7692/3191268500.py\u001b[0m in \u001b[0;36m<module>\u001b[1;34m\u001b[0m\n\u001b[1;32m----> 1\u001b[1;33m \u001b[0mvartupla\u001b[0m\u001b[1;33m.\u001b[0m\u001b[0mappend\u001b[0m\u001b[1;33m(\u001b[0m\u001b[1;34m'Hola'\u001b[0m\u001b[1;33m)\u001b[0m\u001b[1;33m\u001b[0m\u001b[1;33m\u001b[0m\u001b[0m\n\u001b[0m",
      "\u001b[1;31mAttributeError\u001b[0m: 'tuple' object has no attribute 'append'"
     ]
    }
   ],
   "source": [
    "vartupla.append('Hola')"
   ]
  },
  {
   "cell_type": "code",
   "execution_count": 32,
   "id": "ec8e6ece",
   "metadata": {},
   "outputs": [],
   "source": [
    "varlist = [1, 2 , 4]\n",
    "newtupla = tuple(varlist)"
   ]
  },
  {
   "cell_type": "code",
   "execution_count": 33,
   "id": "7169a913",
   "metadata": {},
   "outputs": [
    {
     "data": {
      "text/plain": [
       "(1, 2, 4)"
      ]
     },
     "execution_count": 33,
     "metadata": {},
     "output_type": "execute_result"
    }
   ],
   "source": [
    "newtupla"
   ]
  },
  {
   "cell_type": "code",
   "execution_count": null,
   "id": "35ea9695",
   "metadata": {},
   "outputs": [],
   "source": []
  },
  {
   "cell_type": "markdown",
   "id": "ffaed390",
   "metadata": {},
   "source": [
    "# Como acceder a un elemento en las Tuplas\n",
    "\n",
    "Las tuplas se manejan de manera similar a las listas, siendo el índice la manera en la que accedemos a cada uno de sus elementos."
   ]
  },
  {
   "cell_type": "code",
   "execution_count": 36,
   "id": "d77f2949",
   "metadata": {},
   "outputs": [],
   "source": [
    "vartupla = (1, 'Hola', 'Mundo')"
   ]
  },
  {
   "cell_type": "code",
   "execution_count": 37,
   "id": "7ddd726d",
   "metadata": {},
   "outputs": [
    {
     "data": {
      "text/plain": [
       "1"
      ]
     },
     "execution_count": 37,
     "metadata": {},
     "output_type": "execute_result"
    }
   ],
   "source": [
    "vartupla[0]"
   ]
  },
  {
   "cell_type": "code",
   "execution_count": 38,
   "id": "0be56925",
   "metadata": {},
   "outputs": [],
   "source": [
    "indice = vartupla[2]"
   ]
  },
  {
   "cell_type": "code",
   "execution_count": 39,
   "id": "0bf2794f",
   "metadata": {},
   "outputs": [
    {
     "name": "stdout",
     "output_type": "stream",
     "text": [
      "Mundo\n"
     ]
    }
   ],
   "source": [
    "print(indice)"
   ]
  },
  {
   "cell_type": "code",
   "execution_count": null,
   "id": "f62a3c25",
   "metadata": {},
   "outputs": [],
   "source": []
  },
  {
   "cell_type": "code",
   "execution_count": null,
   "id": "f24ca616",
   "metadata": {},
   "outputs": [],
   "source": []
  },
  {
   "cell_type": "markdown",
   "id": "764f9bf2",
   "metadata": {},
   "source": [
    "# Diferencias entre tuplas y listas\n",
    "\n",
    "- Tuplas ()   Listas []\n",
    "- Tuplas son estáticas\n",
    "- Listas son dinámicas\n",
    "- Las tuplas ocupan menos memoria"
   ]
  },
  {
   "cell_type": "code",
   "execution_count": null,
   "id": "ca8ed8e9",
   "metadata": {},
   "outputs": [],
   "source": []
  },
  {
   "cell_type": "code",
   "execution_count": null,
   "id": "5e0f4a0a",
   "metadata": {},
   "outputs": [],
   "source": []
  },
  {
   "cell_type": "markdown",
   "id": "fd56c33b",
   "metadata": {},
   "source": [
    "# Verificar si un elemento existe en la tupla\n",
    "\n",
    "Para poder verificar si existe un elemento o valor dentro de la tupla utilizamos IN y NOT IN"
   ]
  },
  {
   "cell_type": "code",
   "execution_count": 40,
   "id": "cdfb7594",
   "metadata": {},
   "outputs": [],
   "source": [
    "vartupla =  (10, 'XHS', 'Roger', 'Viri')"
   ]
  },
  {
   "cell_type": "code",
   "execution_count": 41,
   "id": "ed625788",
   "metadata": {},
   "outputs": [
    {
     "name": "stdout",
     "output_type": "stream",
     "text": [
      "True\n"
     ]
    }
   ],
   "source": [
    "print(10 in vartupla)"
   ]
  },
  {
   "cell_type": "code",
   "execution_count": 42,
   "id": "d0274353",
   "metadata": {},
   "outputs": [
    {
     "name": "stdout",
     "output_type": "stream",
     "text": [
      "True\n"
     ]
    }
   ],
   "source": [
    "print('Viri' in vartupla)"
   ]
  },
  {
   "cell_type": "code",
   "execution_count": 43,
   "id": "48a4d290",
   "metadata": {},
   "outputs": [
    {
     "name": "stdout",
     "output_type": "stream",
     "text": [
      "False\n"
     ]
    }
   ],
   "source": [
    "print('Roger' not in vartupla)"
   ]
  },
  {
   "cell_type": "code",
   "execution_count": 44,
   "id": "b2d0125f",
   "metadata": {},
   "outputs": [
    {
     "name": "stdout",
     "output_type": "stream",
     "text": [
      "True\n"
     ]
    }
   ],
   "source": [
    "print('X' not in vartupla)"
   ]
  },
  {
   "cell_type": "code",
   "execution_count": null,
   "id": "7294dbd0",
   "metadata": {},
   "outputs": [],
   "source": []
  },
  {
   "cell_type": "markdown",
   "id": "8d5deed1",
   "metadata": {},
   "source": [
    "# Encontrar índice en tuplas\n",
    "\n",
    "Podemos encontrar o buscar el índice de un valor dentro de las tuplas utilizando la función index"
   ]
  },
  {
   "cell_type": "code",
   "execution_count": 45,
   "id": "4c37bc8b",
   "metadata": {},
   "outputs": [],
   "source": [
    "vartupla = ('Josue', 'Xbox', 'Playstation', 'Switch')"
   ]
  },
  {
   "cell_type": "code",
   "execution_count": 46,
   "id": "780e6531",
   "metadata": {},
   "outputs": [
    {
     "data": {
      "text/plain": [
       "1"
      ]
     },
     "execution_count": 46,
     "metadata": {},
     "output_type": "execute_result"
    }
   ],
   "source": [
    "vartupla.index('Xbox')"
   ]
  },
  {
   "cell_type": "code",
   "execution_count": 47,
   "id": "1f96d4a2",
   "metadata": {},
   "outputs": [
    {
     "data": {
      "text/plain": [
       "3"
      ]
     },
     "execution_count": 47,
     "metadata": {},
     "output_type": "execute_result"
    }
   ],
   "source": [
    "vartupla.index('Switch')"
   ]
  },
  {
   "cell_type": "code",
   "execution_count": 48,
   "id": "7ccfe947",
   "metadata": {},
   "outputs": [
    {
     "ename": "ValueError",
     "evalue": "tuple.index(x): x not in tuple",
     "output_type": "error",
     "traceback": [
      "\u001b[1;31m---------------------------------------------------------------------------\u001b[0m",
      "\u001b[1;31mValueError\u001b[0m                                Traceback (most recent call last)",
      "\u001b[1;32m~\\AppData\\Local\\Temp/ipykernel_7692/4200059362.py\u001b[0m in \u001b[0;36m<module>\u001b[1;34m\u001b[0m\n\u001b[1;32m----> 1\u001b[1;33m \u001b[0mvartupla\u001b[0m\u001b[1;33m.\u001b[0m\u001b[0mindex\u001b[0m\u001b[1;33m(\u001b[0m\u001b[1;34m'Hola'\u001b[0m\u001b[1;33m)\u001b[0m\u001b[1;33m\u001b[0m\u001b[1;33m\u001b[0m\u001b[0m\n\u001b[0m",
      "\u001b[1;31mValueError\u001b[0m: tuple.index(x): x not in tuple"
     ]
    }
   ],
   "source": [
    "vartupla.index('Hola')"
   ]
  },
  {
   "cell_type": "code",
   "execution_count": null,
   "id": "c8d07769",
   "metadata": {},
   "outputs": [],
   "source": []
  },
  {
   "cell_type": "code",
   "execution_count": null,
   "id": "defe70b5",
   "metadata": {},
   "outputs": [],
   "source": []
  },
  {
   "cell_type": "markdown",
   "id": "90d0ee2f",
   "metadata": {},
   "source": [
    "# Número de ocurrencias en una tupla\n",
    "\n",
    "Para saber cuantas veces se repite un valor dentro de la tupla utilizamos la función count() que nos devuelve el número entero de veces que aparece el valor en la tupla"
   ]
  },
  {
   "cell_type": "code",
   "execution_count": 49,
   "id": "a9b861d3",
   "metadata": {},
   "outputs": [],
   "source": [
    "vartupla = (10, 8, 5, 2, 10, 15, 10, 8, 5, 8, 8, 2)"
   ]
  },
  {
   "cell_type": "code",
   "execution_count": 50,
   "id": "f89efd63",
   "metadata": {},
   "outputs": [
    {
     "data": {
      "text/plain": [
       "4"
      ]
     },
     "execution_count": 50,
     "metadata": {},
     "output_type": "execute_result"
    }
   ],
   "source": [
    "vartupla.count(8)"
   ]
  },
  {
   "cell_type": "code",
   "execution_count": 51,
   "id": "ede68aa1",
   "metadata": {},
   "outputs": [
    {
     "data": {
      "text/plain": [
       "3"
      ]
     },
     "execution_count": 51,
     "metadata": {},
     "output_type": "execute_result"
    }
   ],
   "source": [
    "vartupla.count(10)"
   ]
  },
  {
   "cell_type": "code",
   "execution_count": 52,
   "id": "74eff075",
   "metadata": {},
   "outputs": [
    {
     "data": {
      "text/plain": [
       "0"
      ]
     },
     "execution_count": 52,
     "metadata": {},
     "output_type": "execute_result"
    }
   ],
   "source": [
    "vartupla.count(100)"
   ]
  },
  {
   "cell_type": "code",
   "execution_count": null,
   "id": "1cc5cb2e",
   "metadata": {},
   "outputs": [],
   "source": []
  }
 ],
 "metadata": {
  "kernelspec": {
   "display_name": "Python 3 (ipykernel)",
   "language": "python",
   "name": "python3"
  },
  "language_info": {
   "codemirror_mode": {
    "name": "ipython",
    "version": 3
   },
   "file_extension": ".py",
   "mimetype": "text/x-python",
   "name": "python",
   "nbconvert_exporter": "python",
   "pygments_lexer": "ipython3",
   "version": "3.10.1"
  }
 },
 "nbformat": 4,
 "nbformat_minor": 5
}
