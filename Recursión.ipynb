{
 "cells": [
  {
   "cell_type": "markdown",
   "id": "9ca309ad",
   "metadata": {},
   "source": [
    "# Recursión\n",
    "La recursividad es una técnica muy empleada en la programación informática y consiste en que una función se llame a sí misma. \n",
    "\n",
    "Python permite el concepto de recursión, esto nos permite iterar en la misma función hasta que logremos el resultado deseado\n",
    "\n",
    " - fun(par):\n",
    "  -   condicion\n",
    "  -   fun(par)\n",
    "   -  return result\n"
   ]
  },
  {
   "cell_type": "code",
   "execution_count": null,
   "id": "25fa8540",
   "metadata": {},
   "outputs": [],
   "source": [
    "def fact(n):\n",
    "  if n==1:\n",
    "    return 1\n",
    "  return n * fact(n -1)"
   ]
  },
  {
   "cell_type": "code",
   "execution_count": 7,
   "id": "3b894f65",
   "metadata": {},
   "outputs": [
    {
     "data": {
      "text/plain": [
       "120"
      ]
     },
     "execution_count": 7,
     "metadata": {},
     "output_type": "execute_result"
    }
   ],
   "source": [
    "# factorial de 5 = 1 * 2 * 3 * 4 * 5\n",
    "fact(5)\n"
   ]
  },
  {
   "cell_type": "markdown",
   "id": "b91e079e",
   "metadata": {},
   "source": [
    "# Caso base y Caso recursivo\n",
    "\n",
    "Una función recursiva cuenta con dos partes, un caso base y un caso factorial:\n",
    "\n",
    "- Caso Base: Aquellos que para ser solucionados no necesitan hacer uso de la función\n",
    "- Caso Recursivo: Aquellos que requieren de la función que se esta definiendo"
   ]
  },
  {
   "cell_type": "code",
   "execution_count": 9,
   "id": "893b4de7",
   "metadata": {},
   "outputs": [],
   "source": [
    "def fact(n):\n",
    "  #Caso Base  \n",
    "  if n==1:\n",
    "    return 1\n",
    "  #Caso Recursivo\n",
    "  return n * fact(n -1)"
   ]
  },
  {
   "cell_type": "markdown",
   "id": "f2b7481c",
   "metadata": {},
   "source": [
    "factorial 1 = 1\n",
    "factorial de n = factorial(n-1)"
   ]
  },
  {
   "cell_type": "markdown",
   "id": "ae67b459",
   "metadata": {},
   "source": [
    "# Sucesión de Fibonacci\n",
    "\n",
    "Ejemplo de una función recursiva para la Sucesión de Fibonacci, esta sucesión consiste de una serie de numeros naturales que se suman de a 2, a partir del 0 y 1, se realiza sumando los últimos dos números\n",
    "\n",
    "0 , 1 , 1 , 2 , 3 , 5 , 8 , 13 , 21 ,34...\n",
    "\n",
    "Por regla, la sucesión de Fibonacci se escribe así: n = n-1 + n-2."
   ]
  },
  {
   "cell_type": "code",
   "execution_count": 17,
   "id": "ab60628c",
   "metadata": {},
   "outputs": [],
   "source": [
    "def fib(n):\n",
    "    \"\"\" Precondición: n debe ser >= 0.\n",
    "        Devuelve: el número de fibonacci número n. \"\"\"\n",
    "    if n == 0 or n == 1:\n",
    "        return n\n",
    "    return fib(n-1) + fib(n-2)"
   ]
  },
  {
   "cell_type": "code",
   "execution_count": 20,
   "id": "8056858d",
   "metadata": {},
   "outputs": [
    {
     "data": {
      "text/plain": [
       "5"
      ]
     },
     "execution_count": 20,
     "metadata": {},
     "output_type": "execute_result"
    }
   ],
   "source": [
    "fib(5)"
   ]
  },
  {
   "cell_type": "code",
   "execution_count": null,
   "id": "8b233584",
   "metadata": {},
   "outputs": [],
   "source": []
  }
 ],
 "metadata": {
  "kernelspec": {
   "display_name": "Python 3 (ipykernel)",
   "language": "python",
   "name": "python3"
  },
  "language_info": {
   "codemirror_mode": {
    "name": "ipython",
    "version": 3
   },
   "file_extension": ".py",
   "mimetype": "text/x-python",
   "name": "python",
   "nbconvert_exporter": "python",
   "pygments_lexer": "ipython3",
   "version": "3.10.1"
  }
 },
 "nbformat": 4,
 "nbformat_minor": 5
}
