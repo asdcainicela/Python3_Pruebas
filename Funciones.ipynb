{
 "cells": [
  {
   "cell_type": "markdown",
   "id": "52a932fb",
   "metadata": {},
   "source": [
    "# Funciones en Python\n",
    "\n",
    "Las funciones son bloques de código que se pueden reutilizar simplemente llamando a la función. Esto permite la reutilización de código simple y elegante sin volver a escribir explícitamente secciones de código.\n",
    "\n",
    "Se declaran con la palabra reservada def"
   ]
  },
  {
   "cell_type": "code",
   "execution_count": null,
   "id": "198e3a19",
   "metadata": {},
   "outputs": [],
   "source": [
    "def funcSuma():\n",
    "    print(str(2+1))"
   ]
  },
  {
   "cell_type": "code",
   "execution_count": null,
   "id": "00143466",
   "metadata": {},
   "outputs": [],
   "source": [
    "funcSuma()"
   ]
  },
  {
   "cell_type": "code",
   "execution_count": null,
   "id": "9ac3f57a",
   "metadata": {},
   "outputs": [],
   "source": [
    "def nombreFunc():\n",
    "    print('Hola')"
   ]
  },
  {
   "cell_type": "code",
   "execution_count": null,
   "id": "b874bc81",
   "metadata": {},
   "outputs": [],
   "source": [
    "nombreFunc()"
   ]
  },
  {
   "cell_type": "code",
   "execution_count": null,
   "id": "b50ce3ce",
   "metadata": {},
   "outputs": [],
   "source": []
  },
  {
   "cell_type": "code",
   "execution_count": null,
   "id": "18c1c811",
   "metadata": {},
   "outputs": [],
   "source": []
  },
  {
   "cell_type": "markdown",
   "id": "470b9a82",
   "metadata": {},
   "source": [
    "# Parámetros y argumentos en funciones\n",
    "\n",
    "Dentro de las funciones podemos utilizar parámetros y argumentos para recibir y enviar valores en una función, un parámetro sirve como una variable definida de manera local para utilizar dentro de mi función, un argumento son los valores que nosotros mandamos a la funcion para que se ejecuten"
   ]
  },
  {
   "cell_type": "code",
   "execution_count": 13,
   "id": "8280f6ca",
   "metadata": {},
   "outputs": [],
   "source": [
    "## a y b son parámetros\n",
    "def funcSuma(a, b, c, d, e):\n",
    "    print(str(a + b))"
   ]
  },
  {
   "cell_type": "code",
   "execution_count": 15,
   "id": "9238231a",
   "metadata": {},
   "outputs": [
    {
     "name": "stdout",
     "output_type": "stream",
     "text": [
      "11\n"
     ]
    }
   ],
   "source": [
    "## 1 y 10 son argumentos que mandamos a la función \n",
    "funcSuma(1, 10, 11, 12, 30)"
   ]
  },
  {
   "cell_type": "code",
   "execution_count": null,
   "id": "61799bfe",
   "metadata": {},
   "outputs": [],
   "source": []
  },
  {
   "cell_type": "code",
   "execution_count": null,
   "id": "6ee00467",
   "metadata": {},
   "outputs": [],
   "source": []
  },
  {
   "cell_type": "markdown",
   "id": "e53a1d19",
   "metadata": {},
   "source": [
    "# Como devolver valores de una función \n",
    "\n",
    "Python nos permite devolver un valor y asignarlo a una variable para utilizarlo posteriormente en otro bloque de nuestro código, esto es con la palabra reservada return"
   ]
  },
  {
   "cell_type": "code",
   "execution_count": 21,
   "id": "bb05a206",
   "metadata": {},
   "outputs": [],
   "source": [
    "def funcSuma(a, b):\n",
    "    print(str(a + b))"
   ]
  },
  {
   "cell_type": "code",
   "execution_count": 22,
   "id": "ff964d85",
   "metadata": {},
   "outputs": [
    {
     "name": "stdout",
     "output_type": "stream",
     "text": [
      "11\n"
     ]
    }
   ],
   "source": [
    "funcSuma(1, 10)"
   ]
  },
  {
   "cell_type": "code",
   "execution_count": 23,
   "id": "695052f3",
   "metadata": {},
   "outputs": [],
   "source": [
    "def funcSuma(a, b):\n",
    "    return a + b"
   ]
  },
  {
   "cell_type": "code",
   "execution_count": 24,
   "id": "75eeb0d7",
   "metadata": {},
   "outputs": [],
   "source": [
    "varsuma = funcSuma(1, 10)"
   ]
  },
  {
   "cell_type": "code",
   "execution_count": 25,
   "id": "bda1af23",
   "metadata": {},
   "outputs": [
    {
     "name": "stdout",
     "output_type": "stream",
     "text": [
      "11\n"
     ]
    }
   ],
   "source": [
    "print(varsuma)"
   ]
  },
  {
   "cell_type": "code",
   "execution_count": 26,
   "id": "fa5f0e5c",
   "metadata": {},
   "outputs": [
    {
     "data": {
      "text/plain": [
       "21"
      ]
     },
     "execution_count": 26,
     "metadata": {},
     "output_type": "execute_result"
    }
   ],
   "source": [
    "10 + varsuma"
   ]
  },
  {
   "cell_type": "code",
   "execution_count": null,
   "id": "f07c8ed7",
   "metadata": {},
   "outputs": [],
   "source": []
  },
  {
   "cell_type": "code",
   "execution_count": null,
   "id": "26cad719",
   "metadata": {},
   "outputs": [],
   "source": []
  },
  {
   "cell_type": "markdown",
   "id": "ad1534dc",
   "metadata": {},
   "source": [
    "# Alcance de una variable en Python\n",
    "\n",
    "Python nos permite declarar variables en multiples partes de nuestro código; sin embargo, el alcance depende de el lugar o parte donde la declaremos"
   ]
  },
  {
   "cell_type": "code",
   "execution_count": 39,
   "id": "fbe4574f",
   "metadata": {},
   "outputs": [
    {
     "name": "stdout",
     "output_type": "stream",
     "text": [
      "1\n"
     ]
    }
   ],
   "source": [
    "varejem = 1 ## variable global\n",
    "\n",
    "## a y b son variables locales\n",
    "def funcSuma(a, b):\n",
    "    varejem2 = 2\n",
    "    return a + b\n",
    "## c y d son variables locales\n",
    "def funcResta(c, d):\n",
    "    return c - d\n",
    "\n",
    "print(varejem)\n",
    "\n"
   ]
  },
  {
   "cell_type": "code",
   "execution_count": null,
   "id": "77f0366e",
   "metadata": {},
   "outputs": [],
   "source": [
    "\n"
   ]
  },
  {
   "cell_type": "code",
   "execution_count": null,
   "id": "ed72b67e",
   "metadata": {},
   "outputs": [],
   "source": []
  },
  {
   "cell_type": "code",
   "execution_count": null,
   "id": "6c992c8d",
   "metadata": {},
   "outputs": [],
   "source": []
  }
 ],
 "metadata": {
  "kernelspec": {
   "display_name": "Python 3 (ipykernel)",
   "language": "python",
   "name": "python3"
  },
  "language_info": {
   "codemirror_mode": {
    "name": "ipython",
    "version": 3
   },
   "file_extension": ".py",
   "mimetype": "text/x-python",
   "name": "python",
   "nbconvert_exporter": "python",
   "pygments_lexer": "ipython3",
   "version": "3.10.1"
  }
 },
 "nbformat": 4,
 "nbformat_minor": 5
}
