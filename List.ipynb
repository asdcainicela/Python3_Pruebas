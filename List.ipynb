{
 "cells": [
  {
   "cell_type": "markdown",
   "id": "4c113355",
   "metadata": {},
   "source": [
    "# Listas en Python\n",
    "\n",
    "Las listas en Python son estructuras de datos formada por una secuencia ordenada de objetos. \n",
    "\n",
    "- lista = [elementos]"
   ]
  },
  {
   "cell_type": "code",
   "execution_count": null,
   "id": "0515920f",
   "metadata": {},
   "outputs": [],
   "source": [
    "## Como crear una lista\n",
    "varlist = [1, 2, 3, 4, 'Hola']"
   ]
  },
  {
   "cell_type": "code",
   "execution_count": null,
   "id": "ad4f9edf",
   "metadata": {},
   "outputs": [],
   "source": [
    "print(varlist)"
   ]
  },
  {
   "cell_type": "code",
   "execution_count": null,
   "id": "63d49060",
   "metadata": {},
   "outputs": [],
   "source": [
    "varliststr = ['Hola', 'Como', '22']"
   ]
  },
  {
   "cell_type": "code",
   "execution_count": null,
   "id": "e530522c",
   "metadata": {},
   "outputs": [],
   "source": [
    "print(varliststr)"
   ]
  },
  {
   "cell_type": "code",
   "execution_count": null,
   "id": "d837298a",
   "metadata": {},
   "outputs": [],
   "source": [
    "varlist[0]"
   ]
  },
  {
   "cell_type": "code",
   "execution_count": null,
   "id": "71dc8b51",
   "metadata": {},
   "outputs": [],
   "source": [
    "varliststr[0::2]"
   ]
  },
  {
   "cell_type": "code",
   "execution_count": null,
   "id": "868129ac",
   "metadata": {},
   "outputs": [],
   "source": []
  },
  {
   "cell_type": "code",
   "execution_count": null,
   "id": "71b92aef",
   "metadata": {},
   "outputs": [],
   "source": []
  },
  {
   "cell_type": "markdown",
   "id": "110288b4",
   "metadata": {},
   "source": [
    "# Agregar elementos a una lista\n",
    "\n",
    "Python permite modificar una lista para agregar elementos dentro de esta misma, es decir, son objetos mutables, esto es muy útil para cuando queremos iterar dentro de nuestras listas y agregar elementos."
   ]
  },
  {
   "cell_type": "code",
   "execution_count": null,
   "id": "1799e06e",
   "metadata": {},
   "outputs": [],
   "source": [
    "### Sumando\n",
    "varlist = [1, 'Hola', 3.16, 'Adios']\n",
    "varadd = ['Agregar']\n",
    "result = varlist + varadd"
   ]
  },
  {
   "cell_type": "code",
   "execution_count": null,
   "id": "8de50fb5",
   "metadata": {},
   "outputs": [],
   "source": [
    "print(result)"
   ]
  },
  {
   "cell_type": "code",
   "execution_count": null,
   "id": "6a3ca408",
   "metadata": {},
   "outputs": [],
   "source": [
    "## Append\n",
    "varlist.append('Agregar Append')"
   ]
  },
  {
   "cell_type": "code",
   "execution_count": null,
   "id": "7926dbf1",
   "metadata": {},
   "outputs": [],
   "source": [
    " print(varlist)"
   ]
  },
  {
   "cell_type": "code",
   "execution_count": null,
   "id": "e706a666",
   "metadata": {},
   "outputs": [],
   "source": [
    "## Insert\n",
    "varlist.insert(0, 'Agregar Insert')"
   ]
  },
  {
   "cell_type": "code",
   "execution_count": null,
   "id": "aa343363",
   "metadata": {},
   "outputs": [],
   "source": [
    "print(varlist)"
   ]
  },
  {
   "cell_type": "code",
   "execution_count": null,
   "id": "eea9d000",
   "metadata": {},
   "outputs": [],
   "source": [
    "varlist.insert(150, 'Fuera de rango')"
   ]
  },
  {
   "cell_type": "code",
   "execution_count": null,
   "id": "c232765a",
   "metadata": {},
   "outputs": [],
   "source": [
    "print(varlist)"
   ]
  },
  {
   "cell_type": "code",
   "execution_count": null,
   "id": "550d774e",
   "metadata": {},
   "outputs": [],
   "source": []
  },
  {
   "cell_type": "code",
   "execution_count": null,
   "id": "e531ee68",
   "metadata": {},
   "outputs": [],
   "source": []
  },
  {
   "cell_type": "markdown",
   "id": "68dc940e",
   "metadata": {},
   "source": [
    "# Remover elementos de una lista\n",
    "\n",
    "Python nos permite de igual manera remover elementos de una lista, ya sea por valor, por índice, o simplemente el último elemento de la lista."
   ]
  },
  {
   "cell_type": "code",
   "execution_count": null,
   "id": "164ad505",
   "metadata": {},
   "outputs": [],
   "source": [
    "## Remover el último elemento\n",
    "varlist = ['Rick', 'Morty', 'Harry', 'Potter', 'Pandas', 'Python', 'Curso']"
   ]
  },
  {
   "cell_type": "code",
   "execution_count": null,
   "id": "3bf154c5",
   "metadata": {},
   "outputs": [],
   "source": [
    "varlist.pop()\n",
    "print(varlist)"
   ]
  },
  {
   "cell_type": "code",
   "execution_count": null,
   "id": "8182e227",
   "metadata": {},
   "outputs": [],
   "source": [
    "## Remover por índice\n",
    "varlist.pop(0)\n",
    "print(varlist)"
   ]
  },
  {
   "cell_type": "code",
   "execution_count": null,
   "id": "a0fa5038",
   "metadata": {},
   "outputs": [],
   "source": [
    "## Remover por valor\n",
    "varlist.remove('Harry')\n",
    "print(varlist)"
   ]
  },
  {
   "cell_type": "code",
   "execution_count": null,
   "id": "c34aae29",
   "metadata": {},
   "outputs": [],
   "source": [
    "varlist.remove('harry')"
   ]
  },
  {
   "cell_type": "code",
   "execution_count": null,
   "id": "7502a63b",
   "metadata": {},
   "outputs": [],
   "source": []
  },
  {
   "cell_type": "code",
   "execution_count": null,
   "id": "a24c01c9",
   "metadata": {},
   "outputs": [],
   "source": []
  },
  {
   "cell_type": "code",
   "execution_count": null,
   "id": "8eadd3a6",
   "metadata": {},
   "outputs": [],
   "source": []
  },
  {
   "cell_type": "markdown",
   "id": "db701b9e",
   "metadata": {},
   "source": [
    "# Identificar si un elemento esta o no en la lista\n",
    "\n",
    "Python tiene la capacidad de decirnos si un elemento existe o no en la lista, para eso utilizamos el 'in', que nos permite saber si algo existe, o, el 'not in' para saber si algo NO existe."
   ]
  },
  {
   "cell_type": "code",
   "execution_count": null,
   "id": "c6f72496",
   "metadata": {},
   "outputs": [],
   "source": [
    "varlist = [1, 'Hola', 'Curso', 3.16, 'A']"
   ]
  },
  {
   "cell_type": "code",
   "execution_count": null,
   "id": "973e28bc",
   "metadata": {},
   "outputs": [],
   "source": [
    "3 in varlist"
   ]
  },
  {
   "cell_type": "code",
   "execution_count": null,
   "id": "e54c4841",
   "metadata": {},
   "outputs": [],
   "source": [
    "3.16 in varlist"
   ]
  },
  {
   "cell_type": "code",
   "execution_count": null,
   "id": "a553eaba",
   "metadata": {},
   "outputs": [],
   "source": [
    "'Harry' not in varlist"
   ]
  },
  {
   "cell_type": "code",
   "execution_count": null,
   "id": "1354442b",
   "metadata": {},
   "outputs": [],
   "source": [
    "'Curso' not in varlist"
   ]
  },
  {
   "cell_type": "code",
   "execution_count": null,
   "id": "95a2f167",
   "metadata": {},
   "outputs": [],
   "source": [
    "flag = 3.16 in varlist\n",
    "print(flag)"
   ]
  },
  {
   "cell_type": "code",
   "execution_count": null,
   "id": "6ebba88f",
   "metadata": {},
   "outputs": [],
   "source": []
  },
  {
   "cell_type": "code",
   "execution_count": null,
   "id": "291af0db",
   "metadata": {},
   "outputs": [],
   "source": []
  },
  {
   "cell_type": "markdown",
   "id": "94aad186",
   "metadata": {},
   "source": [
    "# Actualizar elementos en una lista\n",
    "\n",
    "Las listas son objetos mutables, por lo tanto podemos modificar, expandir o reducir su contenido, para actualizar o cambiar un elemento de la lista basta con hacer lo siguiente:\n",
    "- list[indice] = nuevo valor"
   ]
  },
  {
   "cell_type": "code",
   "execution_count": 79,
   "id": "3976e1c6",
   "metadata": {},
   "outputs": [],
   "source": [
    "varlist = [10, 20, 30, 40]"
   ]
  },
  {
   "cell_type": "code",
   "execution_count": 80,
   "id": "4d72c7d0",
   "metadata": {},
   "outputs": [],
   "source": [
    "varlist[0] = 'Nuevo elemento'"
   ]
  },
  {
   "cell_type": "code",
   "execution_count": 81,
   "id": "d161d1b5",
   "metadata": {},
   "outputs": [
    {
     "name": "stdout",
     "output_type": "stream",
     "text": [
      "['Nuevo elemento', 20, 30, 40]\n"
     ]
    }
   ],
   "source": [
    "print(varlist)"
   ]
  },
  {
   "cell_type": "code",
   "execution_count": 82,
   "id": "1245f6a9",
   "metadata": {},
   "outputs": [
    {
     "ename": "IndexError",
     "evalue": "list assignment index out of range",
     "output_type": "error",
     "traceback": [
      "\u001b[1;31m---------------------------------------------------------------------------\u001b[0m",
      "\u001b[1;31mIndexError\u001b[0m                                Traceback (most recent call last)",
      "\u001b[1;32m~\\AppData\\Local\\Temp/ipykernel_17452/3577039031.py\u001b[0m in \u001b[0;36m<module>\u001b[1;34m\u001b[0m\n\u001b[1;32m----> 1\u001b[1;33m \u001b[0mvarlist\u001b[0m\u001b[1;33m[\u001b[0m\u001b[1;36m15\u001b[0m\u001b[1;33m]\u001b[0m \u001b[1;33m=\u001b[0m \u001b[1;34m'Segundo elemento'\u001b[0m\u001b[1;33m\u001b[0m\u001b[1;33m\u001b[0m\u001b[0m\n\u001b[0m",
      "\u001b[1;31mIndexError\u001b[0m: list assignment index out of range"
     ]
    }
   ],
   "source": [
    "varlist[15] = 'Segundo elemento'"
   ]
  },
  {
   "cell_type": "code",
   "execution_count": null,
   "id": "223d6661",
   "metadata": {},
   "outputs": [],
   "source": []
  },
  {
   "cell_type": "code",
   "execution_count": null,
   "id": "f8d44efb",
   "metadata": {},
   "outputs": [],
   "source": []
  },
  {
   "cell_type": "code",
   "execution_count": null,
   "id": "d20d145f",
   "metadata": {},
   "outputs": [],
   "source": []
  },
  {
   "cell_type": "code",
   "execution_count": null,
   "id": "12003c90",
   "metadata": {},
   "outputs": [],
   "source": []
  }
 ],
 "metadata": {
  "kernelspec": {
   "display_name": "Python 3 (ipykernel)",
   "language": "python",
   "name": "python3"
  },
  "language_info": {
   "codemirror_mode": {
    "name": "ipython",
    "version": 3
   },
   "file_extension": ".py",
   "mimetype": "text/x-python",
   "name": "python",
   "nbconvert_exporter": "python",
   "pygments_lexer": "ipython3",
   "version": "3.10.1"
  }
 },
 "nbformat": 4,
 "nbformat_minor": 5
}
