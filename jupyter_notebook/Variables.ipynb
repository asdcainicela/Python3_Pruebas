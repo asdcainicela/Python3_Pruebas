{
 "cells": [
  {
   "cell_type": "markdown",
   "id": "5088dfb5",
   "metadata": {},
   "source": [
    "# Variables en Python\n",
    "\n",
    "Una variable es un espacio de memoria reservado para un objeto que tiene asignado un dato o valor, puede ser un número, cadena de texto, etc. \n",
    "\n",
    "Son muy utilizadas para asignar valores que queremos utilizar constantemente o representar de manera clara. "
   ]
  },
  {
   "cell_type": "markdown",
   "id": "49c3733a",
   "metadata": {},
   "source": [
    "# Como utilizar variables en Python"
   ]
  },
  {
   "cell_type": "code",
   "execution_count": 1,
   "id": "9da8bc9d",
   "metadata": {},
   "outputs": [
    {
     "name": "stdout",
     "output_type": "stream",
     "text": [
      "3\n"
     ]
    }
   ],
   "source": [
    "### Para crear una variable, basta con utilizar el simbolo '=' para asignar un valor\n",
    "ejemsum = 2 + 1\n",
    "\n",
    "### Para visualizar la variable\n",
    "print(ejemsum)"
   ]
  },
  {
   "cell_type": "code",
   "execution_count": 2,
   "id": "a5c290b8",
   "metadata": {},
   "outputs": [
    {
     "data": {
      "text/plain": [
       "3"
      ]
     },
     "execution_count": 2,
     "metadata": {},
     "output_type": "execute_result"
    }
   ],
   "source": [
    "ejemsum"
   ]
  },
  {
   "cell_type": "code",
   "execution_count": 3,
   "id": "46dd509c",
   "metadata": {},
   "outputs": [],
   "source": [
    "ejemstr = 'Hola Mundo!'"
   ]
  },
  {
   "cell_type": "code",
   "execution_count": 4,
   "id": "04a7629a",
   "metadata": {},
   "outputs": [
    {
     "data": {
      "text/plain": [
       "'Hola Mundo!'"
      ]
     },
     "execution_count": 4,
     "metadata": {},
     "output_type": "execute_result"
    }
   ],
   "source": [
    "ejemstr"
   ]
  },
  {
   "cell_type": "markdown",
   "id": "4ef45780",
   "metadata": {},
   "source": [
    "# Reglas para las variables"
   ]
  },
  {
   "cell_type": "code",
   "execution_count": 5,
   "id": "939e4814",
   "metadata": {},
   "outputs": [
    {
     "name": "stdout",
     "output_type": "stream",
     "text": [
      "Este es x: Valido\n",
      "Este es ejemLength: Igualmente Valido\n"
     ]
    }
   ],
   "source": [
    "### Las variables pueden ser de 1 o más caracteres\n",
    "x = 'Valido'\n",
    "ejemLength = 'Igualmente Valido'\n",
    "\n",
    "print('Este es x: ' +  x)\n",
    "print('Este es ejemLength: ' + ejemLength)"
   ]
  },
  {
   "cell_type": "code",
   "execution_count": 6,
   "id": "a007fc02",
   "metadata": {},
   "outputs": [
    {
     "name": "stdout",
     "output_type": "stream",
     "text": [
      "Este es ejemCase: Hola Mundo!\n",
      "Este es ejemcase: hola mundo!\n"
     ]
    }
   ],
   "source": [
    "### Las variables son 'Case Sensitive',es decir,las variables pueden ser diferentes cuando un caracter está en mayúscula.\n",
    "ejemCase = 'Hola Mundo!'\n",
    "ejemcase = 'hola mundo!'\n",
    "\n",
    "print('Este es ejemCase: ' + ejemCase)\n",
    "print('Este es ejemcase: ' + ejemcase)"
   ]
  },
  {
   "cell_type": "code",
   "execution_count": 7,
   "id": "4da28d59",
   "metadata": {},
   "outputs": [
    {
     "name": "stdout",
     "output_type": "stream",
     "text": [
      "1\n",
      "2\n"
     ]
    }
   ],
   "source": [
    "### Las variables deben comenzar con algun caracter del alfabeto o guión bajo, no pueden comenzar con número, no pueden contener \n",
    "### espacios\n",
    "_ejemnum = 1\n",
    "ejemnum = 2\n",
    "\n",
    "print(_ejemnum)\n",
    "print(ejemnum)"
   ]
  },
  {
   "cell_type": "code",
   "execution_count": 8,
   "id": "20f520a7",
   "metadata": {},
   "outputs": [
    {
     "ename": "SyntaxError",
     "evalue": "invalid syntax (Temp/ipykernel_22872/163370508.py, line 1)",
     "output_type": "error",
     "traceback": [
      "\u001b[1;36m  File \u001b[1;32m\"C:\\Users\\urpineda\\AppData\\Local\\Temp/ipykernel_22872/163370508.py\"\u001b[1;36m, line \u001b[1;32m1\u001b[0m\n\u001b[1;33m    ejem num = 3\u001b[0m\n\u001b[1;37m         ^\u001b[0m\n\u001b[1;31mSyntaxError\u001b[0m\u001b[1;31m:\u001b[0m invalid syntax\n"
     ]
    }
   ],
   "source": [
    "ejem num = 3"
   ]
  },
  {
   "cell_type": "code",
   "execution_count": 9,
   "id": "eeadc83c",
   "metadata": {},
   "outputs": [
    {
     "ename": "SyntaxError",
     "evalue": "invalid decimal literal (Temp/ipykernel_22872/843006956.py, line 1)",
     "output_type": "error",
     "traceback": [
      "\u001b[1;36m  File \u001b[1;32m\"C:\\Users\\urpineda\\AppData\\Local\\Temp/ipykernel_22872/843006956.py\"\u001b[1;36m, line \u001b[1;32m1\u001b[0m\n\u001b[1;33m    1ejem = 4\u001b[0m\n\u001b[1;37m    ^\u001b[0m\n\u001b[1;31mSyntaxError\u001b[0m\u001b[1;31m:\u001b[0m invalid decimal literal\n"
     ]
    }
   ],
   "source": [
    "1ejem = 4"
   ]
  },
  {
   "cell_type": "code",
   "execution_count": null,
   "id": "0497b0bc",
   "metadata": {},
   "outputs": [],
   "source": [
    "### Intenta que el nombre de las variables siempre tenga relación con su contenido o valor\n",
    "x = 'Juan'\n",
    "nomUsuario = 'Juan'\n",
    "\n",
    "y = '100,000'\n",
    "total = '100,000'"
   ]
  }
 ],
 "metadata": {
  "kernelspec": {
   "display_name": "Python 3 (ipykernel)",
   "language": "python",
   "name": "python3"
  },
  "language_info": {
   "codemirror_mode": {
    "name": "ipython",
    "version": 3
   },
   "file_extension": ".py",
   "mimetype": "text/x-python",
   "name": "python",
   "nbconvert_exporter": "python",
   "pygments_lexer": "ipython3",
   "version": "3.10.1"
  }
 },
 "nbformat": 4,
 "nbformat_minor": 5
}
