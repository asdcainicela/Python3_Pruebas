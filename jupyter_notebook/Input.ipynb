{
 "cells": [
  {
   "cell_type": "markdown",
   "id": "a79dfbe7",
   "metadata": {},
   "source": [
    "# Recibir datos con la función Input\n",
    "\n",
    "Python cuenta con la función input que permite solicitar y recibir datos del usuario que utiliza el programa.\n",
    "\n",
    "- input(dato a solicitar)"
   ]
  },
  {
   "cell_type": "code",
   "execution_count": null,
   "id": "97a21b14",
   "metadata": {},
   "outputs": [],
   "source": [
    "input()"
   ]
  },
  {
   "cell_type": "code",
   "execution_count": null,
   "id": "9f769c3a",
   "metadata": {},
   "outputs": [],
   "source": [
    "valor = input()"
   ]
  },
  {
   "cell_type": "code",
   "execution_count": null,
   "id": "98f30fcb",
   "metadata": {},
   "outputs": [],
   "source": [
    "valor"
   ]
  },
  {
   "cell_type": "code",
   "execution_count": null,
   "id": "4c200c22",
   "metadata": {},
   "outputs": [],
   "source": []
  },
  {
   "cell_type": "code",
   "execution_count": null,
   "id": "792a4d25",
   "metadata": {},
   "outputs": [],
   "source": []
  },
  {
   "cell_type": "markdown",
   "id": "2cd6079e",
   "metadata": {},
   "source": [
    "# Usando la función Input para interactuar\n",
    "\n",
    "La función input nos permite poner mensajes la usuario que nos permitira interactuar via la interfaz de python, basta con poner un mensaje dentro de la misma función"
   ]
  },
  {
   "cell_type": "code",
   "execution_count": null,
   "id": "efb2bde1",
   "metadata": {},
   "outputs": [],
   "source": [
    "valor_user = input('Cual es tu edad? ')"
   ]
  },
  {
   "cell_type": "code",
   "execution_count": null,
   "id": "40f3d476",
   "metadata": {},
   "outputs": [],
   "source": [
    "valor_user"
   ]
  },
  {
   "cell_type": "code",
   "execution_count": null,
   "id": "1ba1f002",
   "metadata": {},
   "outputs": [],
   "source": [
    "valor_user2 = input('Cual es tu nombre?: ')"
   ]
  },
  {
   "cell_type": "code",
   "execution_count": null,
   "id": "e2ed3eb6",
   "metadata": {},
   "outputs": [],
   "source": [
    "valor_user2"
   ]
  },
  {
   "cell_type": "code",
   "execution_count": null,
   "id": "cd69fae6",
   "metadata": {},
   "outputs": [],
   "source": [
    "type(valor_user)"
   ]
  },
  {
   "cell_type": "code",
   "execution_count": null,
   "id": "5223b89f",
   "metadata": {},
   "outputs": [],
   "source": [
    "valor_user + 1"
   ]
  },
  {
   "cell_type": "code",
   "execution_count": null,
   "id": "235e2c69",
   "metadata": {},
   "outputs": [],
   "source": [
    "valor_user_num = int(input('Cual es tu edad?: '))"
   ]
  },
  {
   "cell_type": "code",
   "execution_count": null,
   "id": "c6a90f4d",
   "metadata": {},
   "outputs": [],
   "source": [
    "type(valor_user_num)"
   ]
  },
  {
   "cell_type": "code",
   "execution_count": null,
   "id": "f30ed7ca",
   "metadata": {},
   "outputs": [],
   "source": [
    "valor_user_num + 1"
   ]
  },
  {
   "cell_type": "code",
   "execution_count": null,
   "id": "28974b26",
   "metadata": {},
   "outputs": [],
   "source": [
    "pago = float(input('Cuanto vas a pagar?: '))"
   ]
  },
  {
   "cell_type": "code",
   "execution_count": null,
   "id": "c0270e38",
   "metadata": {},
   "outputs": [],
   "source": [
    "pago"
   ]
  },
  {
   "cell_type": "code",
   "execution_count": null,
   "id": "0da4cb34",
   "metadata": {},
   "outputs": [],
   "source": [
    "type(pago)"
   ]
  },
  {
   "cell_type": "code",
   "execution_count": null,
   "id": "ae57e59f",
   "metadata": {},
   "outputs": [],
   "source": []
  }
 ],
 "metadata": {
  "kernelspec": {
   "display_name": "Python 3 (ipykernel)",
   "language": "python",
   "name": "python3"
  },
  "language_info": {
   "codemirror_mode": {
    "name": "ipython",
    "version": 3
   },
   "file_extension": ".py",
   "mimetype": "text/x-python",
   "name": "python",
   "nbconvert_exporter": "python",
   "pygments_lexer": "ipython3",
   "version": "3.10.1"
  }
 },
 "nbformat": 4,
 "nbformat_minor": 5
}
