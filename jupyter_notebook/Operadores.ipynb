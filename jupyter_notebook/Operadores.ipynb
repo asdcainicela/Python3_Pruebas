{
 "cells": [
  {
   "cell_type": "markdown",
   "id": "b75d398c",
   "metadata": {},
   "source": [
    "# Operadores\n"
   ]
  },
  {
   "cell_type": "markdown",
   "id": "608fb5e8",
   "metadata": {},
   "source": [
    "# Que es un operador? \n",
    "\n",
    "Un Operador en Python es un símbolo reservado que representa una operación. Existen los siguientes:\n",
    "\n",
    "- Operadores lógicos \n",
    "- Operadores aritméticos\n",
    "- Operadores de asignación\n",
    "- Operadores relacionales\n",
    "- Operadores de identidad\n",
    "- Operadores de pertenencia"
   ]
  },
  {
   "cell_type": "markdown",
   "id": "6142ddda",
   "metadata": {},
   "source": [
    "# Que es un 'operando'?\n",
    "\n",
    "Los operandos son las variables o valores literales que entran en una operación"
   ]
  },
  {
   "cell_type": "code",
   "execution_count": null,
   "id": "be9301b2",
   "metadata": {},
   "outputs": [],
   "source": [
    "1 + 2 ## 1 y 2 son los operandos, + es el operador aritmetico"
   ]
  },
  {
   "cell_type": "code",
   "execution_count": null,
   "id": "a8952dd5",
   "metadata": {},
   "outputs": [],
   "source": []
  },
  {
   "cell_type": "code",
   "execution_count": null,
   "id": "c173b073",
   "metadata": {},
   "outputs": [],
   "source": []
  },
  {
   "cell_type": "code",
   "execution_count": null,
   "id": "0e1148ac",
   "metadata": {},
   "outputs": [],
   "source": []
  },
  {
   "cell_type": "markdown",
   "id": "0274aa7a",
   "metadata": {},
   "source": [
    "# Operadores aritméticos\n",
    "\n",
    "Este tipo de operadores son capaces de realizar operaciones aritméticas:\n",
    "\n",
    "- Suma\n",
    "- Resta\n",
    "- Multiplicación\n",
    "- División\n",
    "- Módulo\n",
    "- Potencia\n",
    "- División Número Entero (//)"
   ]
  },
  {
   "cell_type": "code",
   "execution_count": null,
   "id": "ee566c16",
   "metadata": {},
   "outputs": [],
   "source": [
    "## Suma\n",
    "1 + 2 "
   ]
  },
  {
   "cell_type": "code",
   "execution_count": null,
   "id": "bc1e8acc",
   "metadata": {},
   "outputs": [],
   "source": [
    "## Resta\n",
    "1 - 2 "
   ]
  },
  {
   "cell_type": "code",
   "execution_count": null,
   "id": "82579fe5",
   "metadata": {},
   "outputs": [],
   "source": [
    "## Multiplicación \n",
    "2 * 2"
   ]
  },
  {
   "cell_type": "code",
   "execution_count": null,
   "id": "1d6000e3",
   "metadata": {},
   "outputs": [],
   "source": [
    "## División\n",
    "4 / 3"
   ]
  },
  {
   "cell_type": "code",
   "execution_count": null,
   "id": "852fc4e7",
   "metadata": {},
   "outputs": [],
   "source": [
    "## Módulo\n",
    "6 % 2"
   ]
  },
  {
   "cell_type": "code",
   "execution_count": null,
   "id": "20d498a2",
   "metadata": {},
   "outputs": [],
   "source": [
    "## Potencia\n",
    "2 ** 3"
   ]
  },
  {
   "cell_type": "code",
   "execution_count": null,
   "id": "fba49883",
   "metadata": {},
   "outputs": [],
   "source": [
    "## División con número entero\n",
    "4 // 3"
   ]
  },
  {
   "cell_type": "code",
   "execution_count": null,
   "id": "6e66e148",
   "metadata": {},
   "outputs": [],
   "source": []
  },
  {
   "cell_type": "code",
   "execution_count": null,
   "id": "59912ec5",
   "metadata": {},
   "outputs": [],
   "source": []
  },
  {
   "cell_type": "code",
   "execution_count": null,
   "id": "b407eccc",
   "metadata": {},
   "outputs": [],
   "source": []
  },
  {
   "cell_type": "markdown",
   "id": "20f7b91c",
   "metadata": {},
   "source": [
    "# Orden y Precedencia en Python\n",
    "\n",
    "Python tiene ciertas reglas para dar prioridad a ciertas operaciones cuando estan representadas en una sola línea u operación grande.\n",
    "\n",
    "El acrónimo PEMDAS es el que utiliza para definir la prioridad.\n",
    "\n",
    "- P Parentheses '()'\n",
    "- E Exponentiation '**'\n",
    "- M Multiplication '*'\n",
    "- D Division '/'\n",
    "- A Addition '+'\n",
    "- S Substraction '-'"
   ]
  },
  {
   "cell_type": "code",
   "execution_count": null,
   "id": "05aee1ec",
   "metadata": {},
   "outputs": [],
   "source": [
    "((4-3) * 3) ** 2"
   ]
  },
  {
   "cell_type": "code",
   "execution_count": null,
   "id": "c26dac27",
   "metadata": {},
   "outputs": [],
   "source": [
    "(4-2)/2**2"
   ]
  },
  {
   "cell_type": "code",
   "execution_count": null,
   "id": "19d7c18a",
   "metadata": {},
   "outputs": [],
   "source": [
    "2 + 4 - 1"
   ]
  },
  {
   "cell_type": "code",
   "execution_count": null,
   "id": "e869f528",
   "metadata": {},
   "outputs": [],
   "source": []
  },
  {
   "cell_type": "code",
   "execution_count": null,
   "id": "78d1faea",
   "metadata": {},
   "outputs": [],
   "source": []
  },
  {
   "cell_type": "markdown",
   "id": "3634952b",
   "metadata": {},
   "source": [
    "# Operadores lógicos\n",
    "\n",
    "Son operadores basados en valores booleanos (True, False), hay 3 tipos de operadores lógicos:\n",
    "- AND\n",
    "- OR \n",
    "- NOT\n",
    "\n",
    "Existe el operador OR Exclusivo, que se representa con '^' y es cuando solo UNO de los valores dentro de la condición de OR se cumple"
   ]
  },
  {
   "cell_type": "code",
   "execution_count": null,
   "id": "124d0fb6",
   "metadata": {},
   "outputs": [],
   "source": [
    "True and True"
   ]
  },
  {
   "cell_type": "code",
   "execution_count": null,
   "id": "2147b64c",
   "metadata": {},
   "outputs": [],
   "source": [
    "True and False"
   ]
  },
  {
   "cell_type": "code",
   "execution_count": null,
   "id": "38d988da",
   "metadata": {},
   "outputs": [],
   "source": [
    "False or True or False"
   ]
  },
  {
   "cell_type": "code",
   "execution_count": null,
   "id": "ec4a41b3",
   "metadata": {},
   "outputs": [],
   "source": [
    "False or True or True"
   ]
  },
  {
   "cell_type": "code",
   "execution_count": null,
   "id": "9957f6ae",
   "metadata": {},
   "outputs": [],
   "source": [
    "not True"
   ]
  },
  {
   "cell_type": "code",
   "execution_count": null,
   "id": "39d27c46",
   "metadata": {},
   "outputs": [],
   "source": [
    "not False"
   ]
  },
  {
   "cell_type": "code",
   "execution_count": null,
   "id": "53b884f5",
   "metadata": {},
   "outputs": [],
   "source": [
    "True ^ False ^ False"
   ]
  },
  {
   "cell_type": "code",
   "execution_count": null,
   "id": "adb59774",
   "metadata": {},
   "outputs": [],
   "source": [
    "True ^ False ^ True"
   ]
  },
  {
   "cell_type": "code",
   "execution_count": null,
   "id": "36aba773",
   "metadata": {},
   "outputs": [],
   "source": []
  },
  {
   "cell_type": "code",
   "execution_count": null,
   "id": "1b949754",
   "metadata": {},
   "outputs": [],
   "source": []
  },
  {
   "cell_type": "markdown",
   "id": "19bbdb12",
   "metadata": {},
   "source": [
    "# Tablas de Verdad de los operadores lógicos\n",
    "\n",
    "Una tabla de verdad es la representación simple que permite establecer la validez de varias propuestas en cuanto a cualquier situación, es decir, determina las condiciones necesarias para que sea verdadero un enunciado propuesto\n"
   ]
  },
  {
   "cell_type": "code",
   "execution_count": null,
   "id": "968a5a44",
   "metadata": {},
   "outputs": [],
   "source": [
    "booleanos = [False, True]\n",
    "\n",
    "# Tabla de verdad de or\n",
    "\n",
    "print('x\\ty\\tx or y')\n",
    "print('-'*22)\n",
    "for x in booleanos:\n",
    "    for y in booleanos:\n",
    "        print(x, y, x or y, sep = '\\t')\n",
    "\n",
    "print()\n",
    "\n",
    "# Tabla de verdad de and\n",
    "\n",
    "print('x\\ty\\tx and y')\n",
    "print('-'*22)\n",
    "for x in booleanos:\n",
    "    for y in booleanos:\n",
    "        print(x, y, x and y, sep = '\\t')\n",
    "        \n",
    "print()\n",
    "\n",
    "# Tabla de verdad de not\n",
    "\n",
    "print('x\\tnot x')\n",
    "print('-'*13)\n",
    "for x in booleanos:\n",
    "    print(x, not x, sep = '\\t')\n",
    "\n",
    "print()\n",
    "\n",
    "# Tabla de verdad de ^\n",
    "\n",
    "print('x\\ty\\tx ^ y')\n",
    "print('-'*21)\n",
    "for x in booleanos:\n",
    "    for y in booleanos:\n",
    "        print(x, y, x ^ y, sep = '\\t') "
   ]
  },
  {
   "cell_type": "code",
   "execution_count": null,
   "id": "fcf02bcd",
   "metadata": {},
   "outputs": [],
   "source": []
  },
  {
   "cell_type": "code",
   "execution_count": null,
   "id": "e16f2a4a",
   "metadata": {},
   "outputs": [],
   "source": []
  },
  {
   "cell_type": "markdown",
   "id": "5930a8c6",
   "metadata": {},
   "source": [
    "# Operadores relacionales\n",
    "\n",
    "Estos operadores nos permiten saber la relación existente entre dos variables\n",
    "\n",
    "- Operador de igual '=='\n",
    "- Operador de no igual '!='\n",
    "- Operador mayor que '>'\n",
    "- Operador menor que '<'\n",
    "- Operador mayor igual que '>='\n",
    "- Operador menor igual que '<='"
   ]
  },
  {
   "cell_type": "code",
   "execution_count": null,
   "id": "9554e212",
   "metadata": {},
   "outputs": [],
   "source": [
    "1 == 1"
   ]
  },
  {
   "cell_type": "code",
   "execution_count": null,
   "id": "952ba900",
   "metadata": {},
   "outputs": [],
   "source": [
    "1 == 2"
   ]
  },
  {
   "cell_type": "code",
   "execution_count": null,
   "id": "7621af02",
   "metadata": {},
   "outputs": [],
   "source": [
    "1 != 2"
   ]
  },
  {
   "cell_type": "code",
   "execution_count": null,
   "id": "a872e30e",
   "metadata": {},
   "outputs": [],
   "source": [
    "3 > 3"
   ]
  },
  {
   "cell_type": "code",
   "execution_count": null,
   "id": "fb9916eb",
   "metadata": {},
   "outputs": [],
   "source": [
    "3 < 4"
   ]
  },
  {
   "cell_type": "code",
   "execution_count": null,
   "id": "89632a6f",
   "metadata": {},
   "outputs": [],
   "source": [
    "3 >= 3"
   ]
  },
  {
   "cell_type": "code",
   "execution_count": null,
   "id": "e0b55e69",
   "metadata": {},
   "outputs": [],
   "source": [
    "3 >= 2"
   ]
  },
  {
   "cell_type": "code",
   "execution_count": null,
   "id": "edf1b04d",
   "metadata": {},
   "outputs": [],
   "source": [
    "1 <= 2"
   ]
  },
  {
   "cell_type": "code",
   "execution_count": null,
   "id": "c5a5af38",
   "metadata": {},
   "outputs": [],
   "source": [
    "1 <= 1"
   ]
  },
  {
   "cell_type": "code",
   "execution_count": null,
   "id": "4a3647c4",
   "metadata": {},
   "outputs": [],
   "source": []
  },
  {
   "cell_type": "code",
   "execution_count": null,
   "id": "42ebccce",
   "metadata": {},
   "outputs": [],
   "source": []
  },
  {
   "cell_type": "code",
   "execution_count": null,
   "id": "13c00511",
   "metadata": {},
   "outputs": [],
   "source": []
  },
  {
   "cell_type": "markdown",
   "id": "60242ca5",
   "metadata": {},
   "source": [
    "# Comparar Cadenas de Caracteres \n",
    "\n",
    "En Python es posible comparar las strings con los operadores relacionales, siguen una lógica similar, aunque, tienen ciertas reglas propias.\n"
   ]
  },
  {
   "cell_type": "code",
   "execution_count": null,
   "id": "d3e334cd",
   "metadata": {},
   "outputs": [],
   "source": [
    "## Comparar si una cadena es igual a otra\n",
    "'Hola' == 'Hola'"
   ]
  },
  {
   "cell_type": "code",
   "execution_count": null,
   "id": "2c8d4c3f",
   "metadata": {},
   "outputs": [],
   "source": [
    "'hola' == 'HolA'"
   ]
  },
  {
   "cell_type": "code",
   "execution_count": null,
   "id": "11364c0e",
   "metadata": {},
   "outputs": [],
   "source": [
    "## Comparar si una cadena 'va antes' que otra\n",
    "'Adios' > 'Caer'"
   ]
  },
  {
   "cell_type": "code",
   "execution_count": null,
   "id": "fd7ce429",
   "metadata": {},
   "outputs": [],
   "source": [
    "'Adios' < 'Caer'"
   ]
  },
  {
   "cell_type": "code",
   "execution_count": null,
   "id": "c2507093",
   "metadata": {},
   "outputs": [],
   "source": [
    "'Ada' > 'Ado'"
   ]
  },
  {
   "cell_type": "code",
   "execution_count": null,
   "id": "e2673410",
   "metadata": {},
   "outputs": [],
   "source": [
    "'Ada' < 'ada'"
   ]
  },
  {
   "cell_type": "code",
   "execution_count": null,
   "id": "fd25af1e",
   "metadata": {},
   "outputs": [],
   "source": [
    "'Ada' <= 'Ada'"
   ]
  },
  {
   "cell_type": "code",
   "execution_count": null,
   "id": "08659570",
   "metadata": {},
   "outputs": [],
   "source": [
    "## Comparar si una cadena es igual o mayor que otra\n",
    "'Ada' >= 'Ada'"
   ]
  },
  {
   "cell_type": "code",
   "execution_count": null,
   "id": "4131435d",
   "metadata": {},
   "outputs": [],
   "source": []
  },
  {
   "cell_type": "markdown",
   "id": "928b89e4",
   "metadata": {},
   "source": [
    "# Operadores de Asignación\n",
    "\n",
    "En este caso, los operadores de asignación o assignment operators nos permiten realizar una operación y almacenar su resultado en la variable inicial. "
   ]
  },
  {
   "cell_type": "code",
   "execution_count": 8,
   "id": "0900b9b4",
   "metadata": {},
   "outputs": [
    {
     "name": "stdout",
     "output_type": "stream",
     "text": [
      "3\n"
     ]
    }
   ],
   "source": [
    "x = 1\n",
    "## Suma  x = x + 2\n",
    "x += 2\n",
    "print(x)"
   ]
  },
  {
   "cell_type": "code",
   "execution_count": 9,
   "id": "9bd800bb",
   "metadata": {},
   "outputs": [
    {
     "name": "stdout",
     "output_type": "stream",
     "text": [
      "-1\n"
     ]
    }
   ],
   "source": [
    "x = 1\n",
    "## Resta x = x - 2\n",
    "x -= 2\n",
    "print(x)"
   ]
  },
  {
   "cell_type": "code",
   "execution_count": 10,
   "id": "02a82261",
   "metadata": {},
   "outputs": [
    {
     "name": "stdout",
     "output_type": "stream",
     "text": [
      "5.0\n"
     ]
    }
   ],
   "source": [
    "x = 10\n",
    "## Division\n",
    "x /= 2\n",
    "print(x)"
   ]
  },
  {
   "cell_type": "code",
   "execution_count": 11,
   "id": "48434115",
   "metadata": {},
   "outputs": [
    {
     "name": "stdout",
     "output_type": "stream",
     "text": [
      "20\n"
     ]
    }
   ],
   "source": [
    "x = 10\n",
    "## Multiplicacion\n",
    "x *= 2\n",
    "print(x)"
   ]
  },
  {
   "cell_type": "code",
   "execution_count": 12,
   "id": "cb552ca5",
   "metadata": {},
   "outputs": [
    {
     "name": "stdout",
     "output_type": "stream",
     "text": [
      "100\n"
     ]
    }
   ],
   "source": [
    "x = 10\n",
    "## Potencia\n",
    "x **= 2\n",
    "print(x)"
   ]
  },
  {
   "cell_type": "code",
   "execution_count": 13,
   "id": "7b70ecf2",
   "metadata": {},
   "outputs": [
    {
     "name": "stdout",
     "output_type": "stream",
     "text": [
      "5\n"
     ]
    }
   ],
   "source": [
    "x = 10\n",
    "## Division Entera\n",
    "x //= 2\n",
    "print(x)"
   ]
  },
  {
   "cell_type": "code",
   "execution_count": 14,
   "id": "39104294",
   "metadata": {},
   "outputs": [
    {
     "name": "stdout",
     "output_type": "stream",
     "text": [
      "2\n"
     ]
    }
   ],
   "source": [
    "x = 10\n",
    "## Modulo\n",
    "x &= 2\n",
    "print(x)"
   ]
  },
  {
   "cell_type": "code",
   "execution_count": null,
   "id": "43e7b285",
   "metadata": {},
   "outputs": [],
   "source": []
  }
 ],
 "metadata": {
  "kernelspec": {
   "display_name": "Python 3 (ipykernel)",
   "language": "python",
   "name": "python3"
  },
  "language_info": {
   "codemirror_mode": {
    "name": "ipython",
    "version": 3
   },
   "file_extension": ".py",
   "mimetype": "text/x-python",
   "name": "python",
   "nbconvert_exporter": "python",
   "pygments_lexer": "ipython3",
   "version": "3.10.1"
  }
 },
 "nbformat": 4,
 "nbformat_minor": 5
}
