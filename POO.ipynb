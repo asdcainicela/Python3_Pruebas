{
 "cells": [
  {
   "cell_type": "markdown",
   "id": "9fedc28b",
   "metadata": {},
   "source": [
    "# Programación Orientada a Objetos\n",
    "\n",
    "La Programación Orientada a Objetos (POO) es un paradigma de programación, es decir, un modelo o un estilo de programación que nos da unas guías sobre cómo trabajar con él. Se basa en el concepto de clases y objetos. Este tipo de programación se utiliza para estructurar un programa de software en piezas simples y reutilizables de planos de código (clases) para crear instancias individuales de objetos. \n",
    "\n",
    "En Python todo es un objeto, cuando creamos una variable, le estamos asignando un objeto, todas las colecciones son objetos, las clases y funciones tambien son objetos, es por eso que es tan importante aprender este paradigma que comenzo a popularizarse por los años 90."
   ]
  },
  {
   "cell_type": "code",
   "execution_count": null,
   "id": "382d0ea1",
   "metadata": {},
   "outputs": [],
   "source": []
  },
  {
   "cell_type": "code",
   "execution_count": null,
   "id": "f9bcb2ea",
   "metadata": {},
   "outputs": [],
   "source": []
  },
  {
   "cell_type": "markdown",
   "id": "93e86d26",
   "metadata": {},
   "source": [
    "# Propósito de las clases \n",
    "\n",
    "Las clases proveen una forma de empaquetar datos y funcionalidad juntos. Al crear una nueva clase, se crea un nuevo tipo de objeto, permitiendo crear nuevas instancias de ese tipo. Cada instancia de clase puede tener atributos adjuntos para mantener su estado. Las instancias de clase también pueden tener métodos (definidos por su clase) para modificar su estado.\n",
    "\n",
    "Las instancias de estas clases, serán los objetos."
   ]
  },
  {
   "cell_type": "markdown",
   "id": "e83b13ab",
   "metadata": {},
   "source": [
    "# Definir clases, métodos y atributos en Python"
   ]
  },
  {
   "cell_type": "code",
   "execution_count": 10,
   "id": "94f1f5da",
   "metadata": {},
   "outputs": [],
   "source": [
    "class Vehiculo:\n",
    "    pass\n"
   ]
  },
  {
   "cell_type": "code",
   "execution_count": 8,
   "id": "1d77a301",
   "metadata": {},
   "outputs": [],
   "source": [
    "class Vehiculo:\n",
    "    def __init__(self):\n",
    "        self.marca = \"Ford\"\n"
   ]
  },
  {
   "cell_type": "code",
   "execution_count": null,
   "id": "cbc842d7",
   "metadata": {},
   "outputs": [],
   "source": []
  },
  {
   "cell_type": "code",
   "execution_count": 5,
   "id": "bc323071",
   "metadata": {},
   "outputs": [],
   "source": [
    "class Vehiculo:\n",
    "    def __init__(self):\n",
    "        self.marca = \"Ford\"\n",
    "\n",
    "    def encender(self):\n",
    "        print(\"El auto se ha encendido\")\n"
   ]
  },
  {
   "cell_type": "code",
   "execution_count": null,
   "id": "09108f55",
   "metadata": {},
   "outputs": [],
   "source": []
  },
  {
   "cell_type": "code",
   "execution_count": 12,
   "id": "c63fa4d8",
   "metadata": {},
   "outputs": [],
   "source": [
    "class Vehiculo:\n",
    "\n",
    "    def __init__(self, marca):\n",
    "        self.marca = marca\n",
    "\n",
    "    def encender(self):\n",
    "        print(f\"El auto marca {self.marca} se ha encendido\")"
   ]
  },
  {
   "cell_type": "code",
   "execution_count": 13,
   "id": "ec1d0862",
   "metadata": {},
   "outputs": [],
   "source": [
    "veh = Vehiculo('Nissan')\n",
    "veh2 = Vehiculo('Ford')"
   ]
  },
  {
   "cell_type": "markdown",
   "id": "a8303c6a",
   "metadata": {},
   "source": [
    "# Instanciar clases en Python"
   ]
  },
  {
   "cell_type": "code",
   "execution_count": 15,
   "id": "05b27f1a",
   "metadata": {},
   "outputs": [],
   "source": [
    "class Vehiculo:\n",
    "\n",
    "    def __init__(self, marca):\n",
    "        self.marca = marca\n",
    "\n",
    "    def encender(self):\n",
    "        print(f\"El auto marca {self.marca} se ha encendido\")"
   ]
  },
  {
   "cell_type": "code",
   "execution_count": 16,
   "id": "f5c4e7f5",
   "metadata": {},
   "outputs": [],
   "source": [
    "vFord = Vehiculo('Ford')\n",
    "vNissan = Vehiculo('Nissan')\n",
    "vVW = Vehiculo('VW')"
   ]
  },
  {
   "cell_type": "markdown",
   "id": "c1f58d84",
   "metadata": {},
   "source": [
    "# Acceder atributos de una instancia"
   ]
  },
  {
   "cell_type": "code",
   "execution_count": 17,
   "id": "09b5365e",
   "metadata": {},
   "outputs": [],
   "source": [
    "class Vehiculo:\n",
    "\n",
    "    def __init__(self, marca):\n",
    "        self.marca = marca\n",
    "\n",
    "    def encender(self):\n",
    "        print(f\"El auto marca {self.marca} se ha encendido\")"
   ]
  },
  {
   "cell_type": "code",
   "execution_count": 18,
   "id": "1cfc32d4",
   "metadata": {},
   "outputs": [],
   "source": [
    "vFord = Vehiculo('Ford')\n",
    "vNissan = Vehiculo('Nissan')\n",
    "vVW = Vehiculo('VW')"
   ]
  },
  {
   "cell_type": "code",
   "execution_count": 21,
   "id": "1c182773",
   "metadata": {},
   "outputs": [
    {
     "data": {
      "text/plain": [
       "'Ford'"
      ]
     },
     "execution_count": 21,
     "metadata": {},
     "output_type": "execute_result"
    }
   ],
   "source": [
    "vFord.marca"
   ]
  },
  {
   "cell_type": "code",
   "execution_count": 22,
   "id": "45c1ffd1",
   "metadata": {},
   "outputs": [],
   "source": [
    "marcaInstancia = vFord.marca"
   ]
  },
  {
   "cell_type": "code",
   "execution_count": 23,
   "id": "def9f619",
   "metadata": {},
   "outputs": [
    {
     "name": "stdout",
     "output_type": "stream",
     "text": [
      "Ford\n"
     ]
    }
   ],
   "source": [
    "print(marcaInstancia)"
   ]
  },
  {
   "cell_type": "markdown",
   "id": "9b9fe9bc",
   "metadata": {},
   "source": [
    "# Llamar método a partir de una instancia"
   ]
  },
  {
   "cell_type": "code",
   "execution_count": 24,
   "id": "736124f9",
   "metadata": {},
   "outputs": [],
   "source": [
    "class Vehiculo:\n",
    "\n",
    "    def __init__(self, marca):\n",
    "        self.marca = marca\n",
    "\n",
    "    def encender(self):\n",
    "        print(f\"El auto marca {self.marca} se ha encendido\")"
   ]
  },
  {
   "cell_type": "code",
   "execution_count": 25,
   "id": "c16ed41c",
   "metadata": {},
   "outputs": [],
   "source": [
    "vFord = Vehiculo('Ford')\n",
    "vNissan = Vehiculo('Nissan')\n",
    "vVW = Vehiculo('VW')"
   ]
  },
  {
   "cell_type": "code",
   "execution_count": 29,
   "id": "06f19f56",
   "metadata": {},
   "outputs": [
    {
     "name": "stdout",
     "output_type": "stream",
     "text": [
      "El auto marca Ford se ha encendido\n"
     ]
    }
   ],
   "source": [
    "vFord.encender()"
   ]
  },
  {
   "cell_type": "code",
   "execution_count": 30,
   "id": "9a625ae0",
   "metadata": {},
   "outputs": [
    {
     "name": "stdout",
     "output_type": "stream",
     "text": [
      "El auto marca Nissan se ha encendido\n"
     ]
    }
   ],
   "source": [
    "vNissan.encender()"
   ]
  },
  {
   "cell_type": "markdown",
   "id": "365f1b0d",
   "metadata": {},
   "source": [
    "# Ejemplos"
   ]
  },
  {
   "cell_type": "code",
   "execution_count": 36,
   "id": "66f1a206",
   "metadata": {},
   "outputs": [],
   "source": [
    "class Persona:\n",
    "\n",
    "    def __init__(self, nombre, edad, puesto):\n",
    "        self.nombre = nombre\n",
    "        self.edad = edad\n",
    "        self.puesto = puesto\n",
    "\n",
    "    def reportar(self):\n",
    "        print(f\"El usuario {self.nombre} ha sido reportado\")\n",
    "        \n",
    "    def felicitar(self):\n",
    "        print(f\"El usuario {self.nombre} ha sido felicitado\")"
   ]
  },
  {
   "cell_type": "code",
   "execution_count": 37,
   "id": "42207a94",
   "metadata": {},
   "outputs": [],
   "source": [
    "user1 = Persona('Uriel', 23, 'Data Analyst')\n",
    "user2 = Persona('Jose', 26, 'Manager')\n",
    "user3 = Persona('Saul', 26, 'Associate')"
   ]
  },
  {
   "cell_type": "code",
   "execution_count": 38,
   "id": "5fecda8b",
   "metadata": {},
   "outputs": [
    {
     "name": "stdout",
     "output_type": "stream",
     "text": [
      "El usuario Uriel ha sido felicitado\n"
     ]
    }
   ],
   "source": [
    "user1.felicitar()"
   ]
  },
  {
   "cell_type": "code",
   "execution_count": 39,
   "id": "4426ea11",
   "metadata": {},
   "outputs": [
    {
     "name": "stdout",
     "output_type": "stream",
     "text": [
      "El usuario Saul ha sido reportado\n"
     ]
    }
   ],
   "source": [
    "user3.reportar()"
   ]
  },
  {
   "cell_type": "code",
   "execution_count": null,
   "id": "af17343c",
   "metadata": {},
   "outputs": [],
   "source": []
  }
 ],
 "metadata": {
  "kernelspec": {
   "display_name": "Python 3 (ipykernel)",
   "language": "python",
   "name": "python3"
  },
  "language_info": {
   "codemirror_mode": {
    "name": "ipython",
    "version": 3
   },
   "file_extension": ".py",
   "mimetype": "text/x-python",
   "name": "python",
   "nbconvert_exporter": "python",
   "pygments_lexer": "ipython3",
   "version": "3.10.1"
  }
 },
 "nbformat": 4,
 "nbformat_minor": 5
}
