{
 "cells": [
  {
   "cell_type": "markdown",
   "id": "622b171c",
   "metadata": {},
   "source": [
    "# Introducción a Módulo e Importación en Python\n",
    "\n",
    "Un módulo en Python es un archivo con extensión .py que puede albergar funciones, variables o clases, los módulos pueden ser importados y utilizados en nuestro código, es decir, los podemos usar en otros archivos o módulos\n",
    "\n",
    "Existen diversos tipos de módulos que podemos importar, esta el módulo de random que genera datos de forma aleatoria, el módulo pandas que nos ayuda para análisis de datos, etc.\n"
   ]
  },
  {
   "cell_type": "markdown",
   "id": "f50a147f",
   "metadata": {},
   "source": [
    "# Instalación de Módulos en Python"
   ]
  },
  {
   "cell_type": "code",
   "execution_count": 6,
   "id": "d8013857",
   "metadata": {},
   "outputs": [
    {
     "name": "stdout",
     "output_type": "stream",
     "text": [
      "Requirement already satisfied: pandas in c:\\users\\urpineda\\appdata\\local\\programs\\python\\python310\\lib\\site-packages (1.4.0)\n",
      "Requirement already satisfied: numpy>=1.21.0 in c:\\users\\urpineda\\appdata\\local\\programs\\python\\python310\\lib\\site-packages (from pandas) (1.22.1)\n",
      "Requirement already satisfied: pytz>=2020.1 in c:\\users\\urpineda\\appdata\\local\\programs\\python\\python310\\lib\\site-packages (from pandas) (2021.3)\n",
      "Requirement already satisfied: python-dateutil>=2.8.1 in c:\\users\\urpineda\\appdata\\local\\programs\\python\\python310\\lib\\site-packages (from pandas) (2.8.2)\n",
      "Requirement already satisfied: six>=1.5 in c:\\users\\urpineda\\appdata\\local\\programs\\python\\python310\\lib\\site-packages (from python-dateutil>=2.8.1->pandas) (1.16.0)\n"
     ]
    },
    {
     "name": "stderr",
     "output_type": "stream",
     "text": [
      "WARNING: You are using pip version 21.2.4; however, version 21.3.1 is available.\n",
      "You should consider upgrading via the 'C:\\Users\\urpineda\\AppData\\Local\\Programs\\Python\\Python310\\python.exe -m pip install --upgrade pip' command.\n"
     ]
    }
   ],
   "source": [
    "## Solo para cuando queramos hacerlo desde jupyter\n",
    "import sys\n",
    "!{sys.executable} -m pip install pandas"
   ]
  },
  {
   "cell_type": "code",
   "execution_count": 7,
   "id": "bd1c09f6",
   "metadata": {},
   "outputs": [],
   "source": [
    "import pandas"
   ]
  },
  {
   "cell_type": "markdown",
   "id": "8f33143a",
   "metadata": {},
   "source": [
    "# Importar todos los elementos de un módulo"
   ]
  },
  {
   "cell_type": "code",
   "execution_count": 13,
   "id": "c933b186",
   "metadata": {},
   "outputs": [],
   "source": [
    "import math"
   ]
  },
  {
   "cell_type": "code",
   "execution_count": 14,
   "id": "f03e4b7e",
   "metadata": {},
   "outputs": [
    {
     "data": {
      "text/plain": [
       "3.1622776601683795"
      ]
     },
     "execution_count": 14,
     "metadata": {},
     "output_type": "execute_result"
    }
   ],
   "source": [
    "math.sqrt(10)"
   ]
  },
  {
   "cell_type": "code",
   "execution_count": 22,
   "id": "8b5f7cb6",
   "metadata": {},
   "outputs": [],
   "source": [
    "from math import *"
   ]
  },
  {
   "cell_type": "code",
   "execution_count": 23,
   "id": "fe006444",
   "metadata": {},
   "outputs": [
    {
     "data": {
      "text/plain": [
       "3.1622776601683795"
      ]
     },
     "execution_count": 23,
     "metadata": {},
     "output_type": "execute_result"
    }
   ],
   "source": [
    "sqrt(10)"
   ]
  },
  {
   "cell_type": "markdown",
   "id": "606bc7e1",
   "metadata": {},
   "source": [
    "# Importar Elementos específicos de un módulo"
   ]
  },
  {
   "cell_type": "code",
   "execution_count": 37,
   "id": "977d9d41",
   "metadata": {},
   "outputs": [],
   "source": [
    "from random import randint"
   ]
  },
  {
   "cell_type": "code",
   "execution_count": 35,
   "id": "9bc41392",
   "metadata": {},
   "outputs": [
    {
     "data": {
      "text/plain": [
       "0.35905926310787084"
      ]
     },
     "execution_count": 35,
     "metadata": {},
     "output_type": "execute_result"
    }
   ],
   "source": [
    "random()"
   ]
  },
  {
   "cell_type": "code",
   "execution_count": 38,
   "id": "179ead1c",
   "metadata": {},
   "outputs": [
    {
     "data": {
      "text/plain": [
       "11"
      ]
     },
     "execution_count": 38,
     "metadata": {},
     "output_type": "execute_result"
    }
   ],
   "source": [
    "randint(10, 11)"
   ]
  },
  {
   "cell_type": "markdown",
   "id": "f5751ea8",
   "metadata": {},
   "source": [
    "# Como Asignar un nombre específico a un módulo "
   ]
  },
  {
   "cell_type": "code",
   "execution_count": 44,
   "id": "6311f1f0",
   "metadata": {},
   "outputs": [],
   "source": [
    "import math as m"
   ]
  },
  {
   "cell_type": "code",
   "execution_count": 45,
   "id": "2bd5645f",
   "metadata": {},
   "outputs": [
    {
     "data": {
      "text/plain": [
       "3.1622776601683795"
      ]
     },
     "execution_count": 45,
     "metadata": {},
     "output_type": "execute_result"
    }
   ],
   "source": [
    "m.sqrt(10)"
   ]
  },
  {
   "cell_type": "code",
   "execution_count": 46,
   "id": "d8f8c775",
   "metadata": {},
   "outputs": [],
   "source": [
    "import random as r"
   ]
  },
  {
   "cell_type": "code",
   "execution_count": 47,
   "id": "1717e75d",
   "metadata": {},
   "outputs": [
    {
     "data": {
      "text/plain": [
       "7"
      ]
     },
     "execution_count": 47,
     "metadata": {},
     "output_type": "execute_result"
    }
   ],
   "source": [
    "r.randint(0,11)"
   ]
  },
  {
   "cell_type": "code",
   "execution_count": null,
   "id": "43dbe8a0",
   "metadata": {},
   "outputs": [],
   "source": []
  },
  {
   "cell_type": "code",
   "execution_count": null,
   "id": "ef5a9db3",
   "metadata": {},
   "outputs": [],
   "source": []
  }
 ],
 "metadata": {
  "kernelspec": {
   "display_name": "Python 3 (ipykernel)",
   "language": "python",
   "name": "python3"
  },
  "language_info": {
   "codemirror_mode": {
    "name": "ipython",
    "version": 3
   },
   "file_extension": ".py",
   "mimetype": "text/x-python",
   "name": "python",
   "nbconvert_exporter": "python",
   "pygments_lexer": "ipython3",
   "version": "3.10.1"
  }
 },
 "nbformat": 4,
 "nbformat_minor": 5
}
