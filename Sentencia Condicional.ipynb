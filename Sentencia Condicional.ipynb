{
 "cells": [
  {
   "cell_type": "markdown",
   "id": "6db85582",
   "metadata": {},
   "source": [
    "# Que es una sentencia condicional\n",
    "\n",
    "Una sentencia condicional (If) es un filtro que permite controlar el flujo de nuestro código, al permitir filtrar dependiendo si la condición de la sentencia es True o es False.\n",
    "\n",
    "Se usa de la siguiente manera\n",
    "\n",
    "- if(condición):\n",
    "    secuencia"
   ]
  },
  {
   "cell_type": "code",
   "execution_count": null,
   "id": "af039b20",
   "metadata": {},
   "outputs": [],
   "source": [
    "## Ejemplo práctico con Python\n",
    "x = 2"
   ]
  },
  {
   "cell_type": "code",
   "execution_count": null,
   "id": "119b564a",
   "metadata": {},
   "outputs": [],
   "source": [
    "if(x > 1):\n",
    "    print(str(x) + ' es mayor a 1')"
   ]
  },
  {
   "cell_type": "code",
   "execution_count": null,
   "id": "16cf914f",
   "metadata": {},
   "outputs": [],
   "source": [
    "if(x < 1):\n",
    "    print('Verdadero')"
   ]
  },
  {
   "cell_type": "markdown",
   "id": "aba2baa9",
   "metadata": {},
   "source": [
    "# If - else"
   ]
  },
  {
   "cell_type": "code",
   "execution_count": null,
   "id": "c9de2235",
   "metadata": {},
   "outputs": [],
   "source": [
    "y = 3"
   ]
  },
  {
   "cell_type": "code",
   "execution_count": null,
   "id": "762f927e",
   "metadata": {},
   "outputs": [],
   "source": [
    "## Ejemplo If Else\n",
    "if(y > 3):\n",
    "    print('Es mayor')\n",
    "else:\n",
    "    print('No se cumple la condición')"
   ]
  },
  {
   "cell_type": "code",
   "execution_count": null,
   "id": "7b31db76",
   "metadata": {},
   "outputs": [],
   "source": [
    "if(y == 3):\n",
    "    print('Es mayor')\n",
    "else:\n",
    "    print('y es menor a 3')"
   ]
  },
  {
   "cell_type": "markdown",
   "id": "b3b296fa",
   "metadata": {},
   "source": [
    "# If - elif\n"
   ]
  },
  {
   "cell_type": "code",
   "execution_count": 25,
   "id": "2486d640",
   "metadata": {},
   "outputs": [],
   "source": [
    "x = 2"
   ]
  },
  {
   "cell_type": "code",
   "execution_count": 22,
   "id": "4cb4a34a",
   "metadata": {},
   "outputs": [
    {
     "name": "stdout",
     "output_type": "stream",
     "text": [
      "x es igual a 4\n"
     ]
    }
   ],
   "source": [
    "if(x == 5):\n",
    "    print('Son iguales')\n",
    "elif (x == 4):\n",
    "    print('x es igual a 4')"
   ]
  },
  {
   "cell_type": "code",
   "execution_count": 23,
   "id": "08633c45",
   "metadata": {},
   "outputs": [
    {
     "name": "stdout",
     "output_type": "stream",
     "text": [
      "x es igual a 4\n"
     ]
    }
   ],
   "source": [
    "if(x == 1):\n",
    "    print('Son iguales')\n",
    "elif (x == 2):\n",
    "    print('x es igual a 2')\n",
    "elif (x == 4):\n",
    "    print('x es igual a 4')"
   ]
  },
  {
   "cell_type": "code",
   "execution_count": 28,
   "id": "38353fe0",
   "metadata": {},
   "outputs": [
    {
     "name": "stdout",
     "output_type": "stream",
     "text": [
      "x es igual a 2\n"
     ]
    }
   ],
   "source": [
    "if(x == 1):\n",
    "    print('Son iguales')\n",
    "\n",
    "elif (x == 2):\n",
    "    print('x es igual a 2')\n",
    "elif (x == 3):\n",
    "    print('x es igual a 3')\n"
   ]
  },
  {
   "cell_type": "code",
   "execution_count": null,
   "id": "6deeff5b",
   "metadata": {},
   "outputs": [],
   "source": []
  }
 ],
 "metadata": {
  "kernelspec": {
   "display_name": "Python 3 (ipykernel)",
   "language": "python",
   "name": "python3"
  },
  "language_info": {
   "codemirror_mode": {
    "name": "ipython",
    "version": 3
   },
   "file_extension": ".py",
   "mimetype": "text/x-python",
   "name": "python",
   "nbconvert_exporter": "python",
   "pygments_lexer": "ipython3",
   "version": "3.10.1"
  }
 },
 "nbformat": 4,
 "nbformat_minor": 5
}
