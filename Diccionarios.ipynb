{
 "cells": [
  {
   "cell_type": "markdown",
   "id": "462f3f6a",
   "metadata": {},
   "source": [
    "# Diccionarios\n",
    "\n",
    "Los diccionarios en Python son un tipo de estructura de datos que nos permiten almacenar datos con una clave, es decir, cada elemento o dato tiene una clave asignada\n",
    "\n",
    "- dict = {Clave:Valor, Clave2:Valor2}"
   ]
  },
  {
   "cell_type": "code",
   "execution_count": null,
   "id": "c24097c1",
   "metadata": {},
   "outputs": [],
   "source": [
    "ejemdict = {'Uriel': 800, 'Viri':200, 'Tabs':300}"
   ]
  },
  {
   "cell_type": "code",
   "execution_count": null,
   "id": "8b0cdf87",
   "metadata": {},
   "outputs": [],
   "source": [
    "print(ejemdict['Uriel'])"
   ]
  },
  {
   "cell_type": "code",
   "execution_count": null,
   "id": "8d33ff7e",
   "metadata": {},
   "outputs": [],
   "source": [
    "print(ejemdict[800])"
   ]
  },
  {
   "cell_type": "code",
   "execution_count": null,
   "id": "828e03c7",
   "metadata": {},
   "outputs": [],
   "source": []
  },
  {
   "cell_type": "code",
   "execution_count": null,
   "id": "7b0432f3",
   "metadata": {},
   "outputs": [],
   "source": []
  },
  {
   "cell_type": "markdown",
   "id": "e2d00bd4",
   "metadata": {},
   "source": [
    "# Añadir y modificar valores en diccionarios\n",
    "\n",
    "Para agregar valores a los diccionarios es necesario asignar el valor a una nueva llave o a una ya existente.\n"
   ]
  },
  {
   "cell_type": "code",
   "execution_count": null,
   "id": "d200ed86",
   "metadata": {},
   "outputs": [],
   "source": [
    "ejemdict = {\n",
    "    'Manzana': 20,\n",
    "    'Pera': 18,\n",
    "    'Platano': 25\n",
    "}"
   ]
  },
  {
   "cell_type": "code",
   "execution_count": null,
   "id": "41ae17d2",
   "metadata": {},
   "outputs": [],
   "source": [
    "ejemdict['Platano'] = 26"
   ]
  },
  {
   "cell_type": "code",
   "execution_count": null,
   "id": "da29927b",
   "metadata": {},
   "outputs": [],
   "source": [
    "print(ejemdict)"
   ]
  },
  {
   "cell_type": "code",
   "execution_count": null,
   "id": "f10f6b09",
   "metadata": {},
   "outputs": [],
   "source": [
    "ejemdict['Naranja'] = 30"
   ]
  },
  {
   "cell_type": "code",
   "execution_count": null,
   "id": "cb36c432",
   "metadata": {},
   "outputs": [],
   "source": [
    "print(ejemdict)"
   ]
  },
  {
   "cell_type": "code",
   "execution_count": null,
   "id": "bba9d2d3",
   "metadata": {},
   "outputs": [],
   "source": []
  },
  {
   "cell_type": "code",
   "execution_count": null,
   "id": "6de283e4",
   "metadata": {},
   "outputs": [],
   "source": []
  },
  {
   "cell_type": "markdown",
   "id": "da3f3543",
   "metadata": {},
   "source": [
    "# Remover valores en diccionarios\n",
    "\n",
    "Para poder remover valores de un diccionario contamos con dos principales maneras:\n",
    "- La palabra reservada del\n",
    "- El método o función pop"
   ]
  },
  {
   "cell_type": "code",
   "execution_count": 35,
   "id": "6f93f57c",
   "metadata": {},
   "outputs": [],
   "source": [
    "ejemdict = {\n",
    "    'Manzana': 20,\n",
    "    'Pera': 18,\n",
    "    'Platano': 25\n",
    "}"
   ]
  },
  {
   "cell_type": "code",
   "execution_count": 36,
   "id": "c449561b",
   "metadata": {},
   "outputs": [],
   "source": [
    "del ejemdict['Manzana']"
   ]
  },
  {
   "cell_type": "code",
   "execution_count": 37,
   "id": "1efac3cc",
   "metadata": {},
   "outputs": [
    {
     "data": {
      "text/plain": [
       "{'Pera': 18, 'Platano': 25}"
      ]
     },
     "execution_count": 37,
     "metadata": {},
     "output_type": "execute_result"
    }
   ],
   "source": [
    "ejemdict"
   ]
  },
  {
   "cell_type": "code",
   "execution_count": 38,
   "id": "ce353829",
   "metadata": {},
   "outputs": [
    {
     "ename": "KeyError",
     "evalue": "'Rosa'",
     "output_type": "error",
     "traceback": [
      "\u001b[1;31m---------------------------------------------------------------------------\u001b[0m",
      "\u001b[1;31mKeyError\u001b[0m                                  Traceback (most recent call last)",
      "\u001b[1;32m~\\AppData\\Local\\Temp/ipykernel_19484/437998062.py\u001b[0m in \u001b[0;36m<module>\u001b[1;34m\u001b[0m\n\u001b[1;32m----> 1\u001b[1;33m \u001b[1;32mdel\u001b[0m \u001b[0mejemdict\u001b[0m\u001b[1;33m[\u001b[0m\u001b[1;34m'Rosa'\u001b[0m\u001b[1;33m]\u001b[0m\u001b[1;33m\u001b[0m\u001b[1;33m\u001b[0m\u001b[0m\n\u001b[0m",
      "\u001b[1;31mKeyError\u001b[0m: 'Rosa'"
     ]
    }
   ],
   "source": [
    "del ejemdict['Rosa']"
   ]
  },
  {
   "cell_type": "code",
   "execution_count": 39,
   "id": "eb4866fd",
   "metadata": {},
   "outputs": [],
   "source": [
    "removed_value = ejemdict.pop('Pera')"
   ]
  },
  {
   "cell_type": "code",
   "execution_count": 40,
   "id": "42c34c55",
   "metadata": {},
   "outputs": [
    {
     "data": {
      "text/plain": [
       "{'Platano': 25}"
      ]
     },
     "execution_count": 40,
     "metadata": {},
     "output_type": "execute_result"
    }
   ],
   "source": [
    "ejemdict"
   ]
  },
  {
   "cell_type": "code",
   "execution_count": 41,
   "id": "e719caea",
   "metadata": {},
   "outputs": [
    {
     "name": "stdout",
     "output_type": "stream",
     "text": [
      "18\n"
     ]
    }
   ],
   "source": [
    "print(removed_value)"
   ]
  },
  {
   "cell_type": "code",
   "execution_count": 42,
   "id": "852debdf",
   "metadata": {},
   "outputs": [],
   "source": [
    "removed_value = ejemdict.pop('Azul', 'No key found')"
   ]
  },
  {
   "cell_type": "code",
   "execution_count": 43,
   "id": "3dcdfb11",
   "metadata": {},
   "outputs": [
    {
     "name": "stdout",
     "output_type": "stream",
     "text": [
      "No key found\n"
     ]
    }
   ],
   "source": [
    "print(removed_value)"
   ]
  },
  {
   "cell_type": "code",
   "execution_count": null,
   "id": "d8f5c4d9",
   "metadata": {},
   "outputs": [],
   "source": []
  },
  {
   "cell_type": "code",
   "execution_count": null,
   "id": "f374e33e",
   "metadata": {},
   "outputs": [],
   "source": []
  },
  {
   "cell_type": "markdown",
   "id": "55133089",
   "metadata": {},
   "source": [
    "# Comprobar si un valor existe\n",
    "\n",
    "En Python podemos comprobar si un valor existe utilizando la función key, ó la función values"
   ]
  },
  {
   "cell_type": "code",
   "execution_count": 53,
   "id": "fda941a9",
   "metadata": {},
   "outputs": [],
   "source": [
    "simpDict = {\n",
    "            1: \"Ant\",\n",
    "            2: \"Bear\",\n",
    "            3: \"Cat\",\n",
    "            4: \"Dog\",\n",
    "            5: \"Elephant\"\n",
    "}"
   ]
  },
  {
   "cell_type": "code",
   "execution_count": 54,
   "id": "51d66720",
   "metadata": {},
   "outputs": [
    {
     "data": {
      "text/plain": [
       "False"
      ]
     },
     "execution_count": 54,
     "metadata": {},
     "output_type": "execute_result"
    }
   ],
   "source": [
    "'Hola' in simpDict.values()"
   ]
  },
  {
   "cell_type": "code",
   "execution_count": 56,
   "id": "92571441",
   "metadata": {},
   "outputs": [
    {
     "data": {
      "text/plain": [
       "True"
      ]
     },
     "execution_count": 56,
     "metadata": {},
     "output_type": "execute_result"
    }
   ],
   "source": [
    "'Ant' in simpDict.values()"
   ]
  },
  {
   "cell_type": "code",
   "execution_count": 57,
   "id": "70d141fc",
   "metadata": {},
   "outputs": [
    {
     "data": {
      "text/plain": [
       "False"
      ]
     },
     "execution_count": 57,
     "metadata": {},
     "output_type": "execute_result"
    }
   ],
   "source": [
    "'Ant' not in simpDict.values()"
   ]
  },
  {
   "cell_type": "code",
   "execution_count": 58,
   "id": "8a88f7a5",
   "metadata": {},
   "outputs": [
    {
     "data": {
      "text/plain": [
       "True"
      ]
     },
     "execution_count": 58,
     "metadata": {},
     "output_type": "execute_result"
    }
   ],
   "source": [
    "1 in simpDict.keys()"
   ]
  },
  {
   "cell_type": "code",
   "execution_count": 59,
   "id": "676d879e",
   "metadata": {},
   "outputs": [
    {
     "data": {
      "text/plain": [
       "False"
      ]
     },
     "execution_count": 59,
     "metadata": {},
     "output_type": "execute_result"
    }
   ],
   "source": [
    "19 in simpDict.keys()"
   ]
  },
  {
   "cell_type": "code",
   "execution_count": 60,
   "id": "99b1b34d",
   "metadata": {},
   "outputs": [
    {
     "data": {
      "text/plain": [
       "'Ant'"
      ]
     },
     "execution_count": 60,
     "metadata": {},
     "output_type": "execute_result"
    }
   ],
   "source": [
    "simpDict.get(1)"
   ]
  },
  {
   "cell_type": "code",
   "execution_count": 61,
   "id": "afb12576",
   "metadata": {},
   "outputs": [
    {
     "data": {
      "text/plain": [
       "'No existe'"
      ]
     },
     "execution_count": 61,
     "metadata": {},
     "output_type": "execute_result"
    }
   ],
   "source": [
    "simpDict.get(10, 'No existe')"
   ]
  },
  {
   "cell_type": "code",
   "execution_count": null,
   "id": "d1f121e7",
   "metadata": {},
   "outputs": [],
   "source": []
  }
 ],
 "metadata": {
  "kernelspec": {
   "display_name": "Python 3 (ipykernel)",
   "language": "python",
   "name": "python3"
  },
  "language_info": {
   "codemirror_mode": {
    "name": "ipython",
    "version": 3
   },
   "file_extension": ".py",
   "mimetype": "text/x-python",
   "name": "python",
   "nbconvert_exporter": "python",
   "pygments_lexer": "ipython3",
   "version": "3.10.1"
  }
 },
 "nbformat": 4,
 "nbformat_minor": 5
}
